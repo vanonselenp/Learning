{
 "cells": [
  {
   "cell_type": "code",
   "execution_count": 1,
   "id": "3a3c3bbb",
   "metadata": {},
   "outputs": [],
   "source": [
    "import os\n",
    "import json\n",
    "import requests\n",
    "import pandas as pd\n",
    "from dotenv import load_dotenv\n",
    "from openai import OpenAI\n",
    "from anthropic import Anthropic\n",
    "from IPython.display import Markdown, display\n",
    "\n",
    "load_dotenv(override=True)\n",
    "openai = OpenAI()\n",
    "anthropic = Anthropic() \n",
    "\n",
    "TOTAL_CARDS = 13\n",
    "\n",
    "# Define theme keywords and strategies for different deck archetypes\n",
    "theme_keywords = {\n",
    "    'Aggro': ['haste', 'attack', 'damage', 'creature', 'power', 'quick', 'rush', 'fast'],\n",
    "    'Control': ['counter', 'destroy', 'exile', 'draw', 'instant', 'sorcery', 'tap', 'return'],\n",
    "    'Midrange': ['creature', 'value', 'versatile', 'balanced', 'enters the battlefield'],\n",
    "    'Ramp': ['mana', 'land', 'search', 'big', 'expensive', 'cost', 'ritual'],\n",
    "    'Tempo': ['bounce', 'counter', 'flying', 'cheap', 'efficient', 'flash'],\n",
    "    'Graveyard': ['graveyard', 'discard', 'mill', 'return', 'flashback', 'delve'],\n",
    "    'Sacrifice': ['sacrifice', 'dies', 'death', 'token', 'creature', 'enters'],\n",
    "    'Tokens': ['token', 'create', 'populate', 'convoke', '1/1', 'creature'],\n",
    "    'Equipment': ['equipment', 'attach', 'equipped', 'artifact', '+1/+1', 'power'],\n",
    "    'Flying': ['flying', 'fly', 'air', 'evasion', 'bird', 'spirit'],\n",
    "    'Burn': ['damage', 'burn', 'lightning', 'shock', 'fire', 'direct'],\n",
    "    'Artifacts': ['artifact', 'colorless', 'construct', 'equipment', 'vehicle'],\n",
    "    'Big Creatures': ['power', 'toughness', '5', '6', '7', 'large', 'trample'],\n",
    "    'Card Draw': ['draw', 'card', 'hand', 'library', 'cantrip', 'scry'],\n",
    "    'Stompy': ['trample', 'power', 'force', 'creature', 'big', 'green'],\n",
    "    'Beatdown': ['attack', 'damage', 'creature', 'aggressive', 'power']\n",
    "}\n",
    "\n",
    "# Color identity synergies\n",
    "color_synergies = {\n",
    "    'W': ['vigilance', 'lifelink', 'protection', 'prevent', 'equipment', 'soldier', 'knight'],\n",
    "    'U': ['draw', 'counter', 'flying', 'scry', 'bounce', 'wizard', 'merfolk'],\n",
    "    'B': ['destroy', 'discard', 'graveyard', 'sacrifice', 'zombie', 'vampire'],\n",
    "    'R': ['damage', 'haste', 'sacrifice', 'goblin', 'warrior', 'burn'],\n",
    "    'G': ['mana', 'ramp', 'trample', 'elf', 'beast', 'large']\n",
    "}\n",
    "\n",
    "# Also check for guild names and convert to strategies\n",
    "guild_themes = {\n",
    "    'azorius': ['Control', 'Flying'],\n",
    "    'dimir': ['Control', 'Graveyard'],\n",
    "    'rakdos': ['Aggro', 'Sacrifice'],\n",
    "    'gruul': ['Aggro', 'Big Creatures'],\n",
    "    'selesnya': ['Tokens', 'Midrange'],\n",
    "    'orzhov': ['Control', 'Sacrifice'],\n",
    "    'izzet': ['Control', 'Burn'],\n",
    "    'golgari': ['Graveyard', 'Sacrifice'],\n",
    "    'boros': ['Aggro', 'Equipment'],\n",
    "    'simic': ['Ramp', 'Card Draw']\n",
    "}\n",
    "\n",
    "# Load the data files\n",
    "oracle_df = pd.read_csv('ThePauperCube_oracle_with_pt.csv')\n",
    "cube_df = pd.read_csv('JumpstartCube_ThePauperCube_ULTIMATE_Final_v3.csv')"
   ]
  },
  {
   "cell_type": "code",
   "execution_count": 2,
   "id": "9f042cef",
   "metadata": {},
   "outputs": [],
   "source": [
    "def validate_jumpstart_cube(cube_df, oracle_df):\n",
    "    \"\"\"\n",
    "    Validates a jumpstart cube against the requirements:\n",
    "    - Unique cards (no duplicates)\n",
    "    - Each deck has 13 non-land cards + 1 unique land (14 total)\n",
    "    - Each deck matches color requirements\n",
    "    \"\"\"\n",
    "    validation_results = {\n",
    "        'is_valid': True,\n",
    "        'errors': [],\n",
    "        'warnings': [],\n",
    "        'deck_summaries': {}\n",
    "    }\n",
    "    \n",
    "    # Helper function to check if a card can be played in a color identity\n",
    "    def card_can_be_played_in_colors(card_name, deck_colors):\n",
    "        \"\"\"Check if a card can be played in the given color identity\"\"\"\n",
    "        # Find card in oracle data\n",
    "        oracle_card = oracle_df[oracle_df['name'] == card_name]\n",
    "        if oracle_card.empty:\n",
    "            return False, f\"Card '{card_name}' not found in oracle data\"\n",
    "        \n",
    "        card_color = oracle_card.iloc[0]['Color']\n",
    "        card_category = oracle_card.iloc[0]['Color Category']\n",
    "        oracle_text = str(oracle_card.iloc[0]['Oracle Text']).lower()\n",
    "        \n",
    "        # Colorless cards and artifacts can be played in any deck\n",
    "        if card_category in ['Colorless', 'Artifacts'] or pd.isna(card_color):\n",
    "            return True, \"Colorless/Artifact\"\n",
    "        \n",
    "        # Lands are handled separately\n",
    "        if card_category == 'Lands':\n",
    "            return True, \"Land\"\n",
    "        \n",
    "        # Check for Phyrexian mana (cards that can be cast with life instead of mana)\n",
    "        if 'phyrexian' in oracle_text or 'can be paid with' in oracle_text:\n",
    "            return True, \"Phyrexian mana\"\n",
    "        \n",
    "        # Convert deck colors to set for easier comparison\n",
    "        if isinstance(deck_colors, str):\n",
    "            deck_color_set = set(deck_colors)\n",
    "        else:\n",
    "            deck_color_set = set()\n",
    "        \n",
    "        # Convert card colors to set\n",
    "        if isinstance(card_color, str):\n",
    "            card_color_set = set(card_color)\n",
    "        else:\n",
    "            card_color_set = set()\n",
    "        \n",
    "        # Check if card colors are subset of deck colors\n",
    "        if card_color_set.issubset(deck_color_set):\n",
    "            return True, f\"Color match: {card_color} fits in {deck_colors}\"\n",
    "        \n",
    "        return False, f\"Color mismatch: {card_color} doesn't fit in {deck_colors}\"\n",
    "    \n",
    "    # Check for duplicate cards across the entire cube\n",
    "    duplicate_cards = cube_df['Name'].duplicated()\n",
    "    if duplicate_cards.any():\n",
    "        duplicates = cube_df[duplicate_cards]['Name'].tolist()\n",
    "        validation_results['errors'].append(f\"Duplicate cards found: {duplicates}\")\n",
    "        validation_results['is_valid'] = False\n",
    "    \n",
    "    # Group by deck (Tags column represents deck themes)\n",
    "    decks = cube_df.groupby('Tags')\n",
    "    \n",
    "    for deck_name, deck_cards in decks:\n",
    "        deck_summary = {\n",
    "            'total_cards': len(deck_cards),\n",
    "            'lands': 0,\n",
    "            'non_lands': 0,\n",
    "            'color_issues': [],\n",
    "            'cards': deck_cards['Name'].tolist()\n",
    "        }\n",
    "        \n",
    "        # Determine deck colors from the deck name\n",
    "        deck_colors = get_deck_colour(deck_name)\n",
    "        \n",
    "        if deck_colors is None:\n",
    "            validation_results['warnings'].append(f\"Could not determine colors for deck '{deck_name}'\")\n",
    "            deck_colors = ''\n",
    "        \n",
    "        # Count lands and non-lands\n",
    "        for _, card in deck_cards.iterrows():\n",
    "            card_type = str(card['Type']).lower()\n",
    "            if 'land' in card_type:\n",
    "                deck_summary['lands'] += 1\n",
    "            else:\n",
    "                deck_summary['non_lands'] += 1\n",
    "            \n",
    "            # Check color identity\n",
    "            can_play, reason = card_can_be_played_in_colors(card['Name'], deck_colors)\n",
    "            if not can_play:\n",
    "                deck_summary['color_issues'].append(f\"{card['Name']}: {reason}\")\n",
    "        \n",
    "        # Validate deck composition\n",
    "        if deck_summary['total_cards'] != TOTAL_CARDS:\n",
    "            validation_results['errors'].append(\n",
    "                f\"Deck '{deck_name}' has {deck_summary['total_cards']} cards, should have 14\"\n",
    "            )\n",
    "            validation_results['is_valid'] = False\n",
    "        \n",
    "        # if deck_summary['non_lands'] != 13:\n",
    "        #     validation_results['errors'].append(\n",
    "        #         f\"Deck '{deck_name}' has {deck_summary['non_lands']} non-land cards, should have 13\"\n",
    "        #     )\n",
    "        #     validation_results['is_valid'] = False\n",
    "        \n",
    "        # if deck_summary['lands'] != 1:\n",
    "        #     validation_results['errors'].append(\n",
    "        #         f\"Deck '{deck_name}' has {deck_summary['lands']} lands, should have exactly 1\"\n",
    "        #     )\n",
    "        #     validation_results['is_valid'] = False\n",
    "        \n",
    "        # Check for color issues\n",
    "        if deck_summary['color_issues']:\n",
    "            validation_results['errors'].extend([\n",
    "                f\"Deck '{deck_name}' color violations: {issue}\" \n",
    "                for issue in deck_summary['color_issues']\n",
    "            ])\n",
    "            validation_results['is_valid'] = False\n",
    "        \n",
    "        validation_results['deck_summaries'][deck_name] = deck_summary\n",
    "    \n",
    "\n",
    "    return validation_results\n",
    "\n",
    "def fetch_card_power_toughness(mtgo_id):\n",
    "    \"\"\"\n",
    "    Fetch card data from Scryfall API using MTGO ID\n",
    "    Returns power and toughness if the card is a creature, otherwise returns None, None\n",
    "    \"\"\"\n",
    "    url = f\"https://api.scryfall.com/cards/mtgo/{int(mtgo_id)}\"\n",
    "    \n",
    "    try:\n",
    "        response = requests.get(url)\n",
    "        response.raise_for_status()  # Raises an HTTPError for bad responses\n",
    "        \n",
    "        card_data = response.json()\n",
    "        \n",
    "        # Check if the card is a creature\n",
    "        if 'Creature' in card_data.get('type_line', ''):\n",
    "            power = card_data.get('power')\n",
    "            toughness = card_data.get('toughness')\n",
    "            return power, toughness\n",
    "        else:\n",
    "            return None, None\n",
    "            \n",
    "    except requests.exceptions.RequestException as e:\n",
    "        print(f\"Error fetching data for MTGO ID {mtgo_id}: {e}\")\n",
    "        return None, None\n",
    "    except KeyError as e:\n",
    "        print(f\"Missing expected data for MTGO ID {mtgo_id}: {e}\")\n",
    "        return None, None\n",
    "\n",
    "def display_validate_results(validation_results):\n",
    "    \"\"\"Display validation results in a readable format\"\"\"\n",
    "    if validation_results['is_valid']:\n",
    "        display(Markdown(\"### Cube is valid! 🎉\"))\n",
    "    else:\n",
    "        display(Markdown(\"### Cube has issues ❗\"))\n",
    "    \n",
    "    if validation_results['errors']:\n",
    "        display(Markdown(\"#### Errors:\"))\n",
    "        for error in validation_results['errors']:\n",
    "            display(Markdown(f\"- {error}\"))\n",
    "    \n",
    "    if validation_results['warnings']:\n",
    "        display(Markdown(\"#### Warnings:\"))\n",
    "        for warning in validation_results['warnings']:\n",
    "            display(Markdown(f\"- {warning}\"))\n",
    "    \n",
    "    if validation_results['deck_summaries']:\n",
    "        display(Markdown(\"#### Deck Summaries:\"))\n",
    "        for deck_name, summary in validation_results['deck_summaries'].items():\n",
    "            display(Markdown(f\"**{deck_name}**: {summary}\"))\n",
    "\n",
    "def get_deck_colour(deck_name):\n",
    "    deck_colors = None\n",
    "    if any(combo in deck_name for combo in ['Azorius', 'WU']):\n",
    "        deck_colors = 'WU'\n",
    "    elif any(combo in deck_name for combo in ['Dimir', 'UB']):\n",
    "        deck_colors = 'UB'\n",
    "    elif any(combo in deck_name for combo in ['Rakdos', 'BR']):\n",
    "        deck_colors = 'BR'\n",
    "    elif any(combo in deck_name for combo in ['Gruul', 'RG']):\n",
    "        deck_colors = 'RG'\n",
    "    elif any(combo in deck_name for combo in ['Selesnya', 'GW']):\n",
    "        deck_colors = 'GW'\n",
    "    elif any(combo in deck_name for combo in ['Orzhov', 'WB']):\n",
    "        deck_colors = 'WB'\n",
    "    elif any(combo in deck_name for combo in ['Izzet', 'UR']):\n",
    "        deck_colors = 'UR'\n",
    "    elif any(combo in deck_name for combo in ['Golgari', 'BG']):\n",
    "        deck_colors = 'BG'\n",
    "    elif any(combo in deck_name for combo in ['Boros', 'RW']):\n",
    "        deck_colors = 'RW'\n",
    "    elif any(combo in deck_name for combo in ['Simic', 'UG']):\n",
    "        deck_colors = 'UG'\n",
    "    elif 'White' in deck_name:\n",
    "        deck_colors = 'W'\n",
    "    elif 'Blue' in deck_name:\n",
    "        deck_colors = 'U'\n",
    "    elif 'Black' in deck_name:\n",
    "        deck_colors = 'B'\n",
    "    elif 'Red' in deck_name:\n",
    "        deck_colors = 'R'\n",
    "    elif 'Green' in deck_name:\n",
    "        deck_colors = 'G'\n",
    "    return deck_colors"
   ]
  },
  {
   "cell_type": "code",
   "execution_count": 3,
   "id": "eef3169b",
   "metadata": {},
   "outputs": [],
   "source": [
    "def analyze_deck_theme_coherence_enhanced(cube_df, oracle_df):\n",
    "    \"\"\"\n",
    "    Enhanced version that analyzes deck theme coherence including power/toughness analysis\n",
    "    Returns detailed analysis of strategy alignment, card synergies, and creature stats\n",
    "    \"\"\"\n",
    "    \n",
    "    def extract_theme_from_deck_name(deck_name):\n",
    "        \"\"\"Extract the main theme from deck name\"\"\"\n",
    "        deck_lower = deck_name.lower()\n",
    "        themes = []\n",
    "        \n",
    "        for theme in theme_keywords.keys():\n",
    "            if theme.lower() in deck_lower:\n",
    "                themes.append(theme)\n",
    "        \n",
    "        for guild, guild_themes_list in guild_themes.items():\n",
    "            if guild in deck_lower:\n",
    "                themes.extend(guild_themes_list)\n",
    "        \n",
    "        return list(set(themes)) if themes else ['Unknown']\n",
    "    \n",
    "    def calculate_theme_score(cards, expected_themes, oracle_df):\n",
    "        \"\"\"Calculate how well cards match expected themes\"\"\"\n",
    "        if not expected_themes or expected_themes == ['Unknown']:\n",
    "            return 0.0, []\n",
    "        \n",
    "        theme_matches = []\n",
    "        total_score = 0\n",
    "        \n",
    "        for _, card_row in cards.iterrows():\n",
    "            card_name = card_row['Name']\n",
    "            card_type = str(card_row['Type']).lower()\n",
    "            \n",
    "            # Find in oracle\n",
    "            oracle_card = oracle_df[oracle_df['name'] == card_name]\n",
    "            if oracle_card.empty:\n",
    "                continue\n",
    "                \n",
    "            oracle_text = str(oracle_card.iloc[0]['Oracle Text']).lower()\n",
    "            card_score = 0\n",
    "            matching_themes = []\n",
    "            \n",
    "            # Check against each expected theme\n",
    "            for theme in expected_themes:\n",
    "                if theme in theme_keywords:\n",
    "                    theme_words = theme_keywords[theme]\n",
    "                    matches = sum(1 for word in theme_words if word in oracle_text or word in card_type)\n",
    "                    if matches > 0:\n",
    "                        card_score += matches\n",
    "                        matching_themes.append(f\"{theme}({matches})\")\n",
    "            \n",
    "            theme_matches.append({\n",
    "                'card': card_name,\n",
    "                'score': card_score,\n",
    "                'themes': matching_themes\n",
    "            })\n",
    "            total_score += card_score\n",
    "        \n",
    "        avg_score = total_score / len(cards) if len(cards) > 0 else 0\n",
    "        return avg_score, theme_matches\n",
    "    \n",
    "    def calculate_creature_stats_coherence(cards, expected_themes, oracle_df):\n",
    "        \"\"\"Analyze creature power/toughness distribution and coherence with deck themes\"\"\"\n",
    "        creature_stats = {\n",
    "            'creature_count': 0,\n",
    "            'total_power': 0,\n",
    "            'total_toughness': 0,\n",
    "            'avg_power': 0,\n",
    "            'avg_toughness': 0,\n",
    "            'power_distribution': {},\n",
    "            'toughness_distribution': {},\n",
    "            'creature_categories': {\n",
    "                'small': 0,      # power <= 2\n",
    "                'medium': 0,     # power 3-4\n",
    "                'large': 0,      # power >= 5\n",
    "                'utility': 0,    # low power but high value text\n",
    "                'evasive': 0     # flying, unblockable, etc.\n",
    "            },\n",
    "            'theme_alignment_score': 0,\n",
    "            'creature_details': []\n",
    "        }\n",
    "        \n",
    "        creatures = []\n",
    "        \n",
    "        for _, card_row in cards.iterrows():\n",
    "            card_name = card_row['Name']\n",
    "            card_type = str(card_row['Type']).lower()\n",
    "            \n",
    "            # Check if it's a creature\n",
    "            if 'creature' not in card_type:\n",
    "                continue\n",
    "            \n",
    "            # Find in oracle\n",
    "            oracle_card = oracle_df[oracle_df['name'] == card_name]\n",
    "            if oracle_card.empty:\n",
    "                continue\n",
    "            \n",
    "            oracle_row = oracle_card.iloc[0]\n",
    "            power = oracle_row.get('Power', 0)\n",
    "            toughness = oracle_row.get('Toughness', 0)\n",
    "            oracle_text = str(oracle_row['Oracle Text']).lower()\n",
    "            \n",
    "            # Handle NaN values\n",
    "            if pd.isna(power):\n",
    "                power = 0\n",
    "            if pd.isna(toughness):\n",
    "                toughness = 0\n",
    "            \n",
    "            power = float(power)\n",
    "            toughness = float(toughness)\n",
    "            \n",
    "            creature_stats['creature_count'] += 1\n",
    "            creature_stats['total_power'] += power\n",
    "            creature_stats['total_toughness'] += toughness\n",
    "            \n",
    "            # Power distribution\n",
    "            power_key = int(power) if power <= 10 else '10+'\n",
    "            creature_stats['power_distribution'][power_key] = creature_stats['power_distribution'].get(power_key, 0) + 1\n",
    "            \n",
    "            # Toughness distribution\n",
    "            tough_key = int(toughness) if toughness <= 10 else '10+'\n",
    "            creature_stats['toughness_distribution'][tough_key] = creature_stats['toughness_distribution'].get(tough_key, 0) + 1\n",
    "            \n",
    "            # Categorize creature\n",
    "            category = []\n",
    "            if power <= 2:\n",
    "                creature_stats['creature_categories']['small'] += 1\n",
    "                category.append('small')\n",
    "            elif power <= 4:\n",
    "                creature_stats['creature_categories']['medium'] += 1\n",
    "                category.append('medium')\n",
    "            else:\n",
    "                creature_stats['creature_categories']['large'] += 1\n",
    "                category.append('large')\n",
    "            \n",
    "            # Check for utility/evasive abilities\n",
    "            if any(word in oracle_text for word in ['flying', 'unblockable', 'menace', 'trample']):\n",
    "                creature_stats['creature_categories']['evasive'] += 1\n",
    "                category.append('evasive')\n",
    "            \n",
    "            if any(word in oracle_text for word in ['draw', 'search', 'when', 'enters', 'dies']):\n",
    "                creature_stats['creature_categories']['utility'] += 1\n",
    "                category.append('utility')\n",
    "            \n",
    "            creature_details = {\n",
    "                'name': card_name,\n",
    "                'power': power,\n",
    "                'toughness': toughness,\n",
    "                'categories': category,\n",
    "                'has_evasion': 'evasive' in category,\n",
    "                'has_utility': 'utility' in category\n",
    "            }\n",
    "            creature_stats['creature_details'].append(creature_details)\n",
    "            creatures.append(creature_details)\n",
    "        \n",
    "        # Calculate averages\n",
    "        if creature_stats['creature_count'] > 0:\n",
    "            creature_stats['avg_power'] = creature_stats['total_power'] / creature_stats['creature_count']\n",
    "            creature_stats['avg_toughness'] = creature_stats['total_toughness'] / creature_stats['creature_count']\n",
    "        \n",
    "        # Calculate theme alignment for creatures\n",
    "        theme_alignment_score = 0\n",
    "        if expected_themes and expected_themes != ['Unknown']:\n",
    "            for theme in expected_themes:\n",
    "                if theme == 'Aggro' or theme == 'Beatdown':\n",
    "                    # Aggro wants low-cost, efficient creatures\n",
    "                    theme_alignment_score += creature_stats['creature_categories']['small'] * 0.8\n",
    "                    theme_alignment_score += creature_stats['creature_categories']['evasive'] * 0.9\n",
    "                elif theme == 'Big Creatures' or theme == 'Stompy':\n",
    "                    # Big creature themes want high power\n",
    "                    theme_alignment_score += creature_stats['creature_categories']['large'] * 1.0\n",
    "                    theme_alignment_score += creature_stats['avg_power'] * 0.2\n",
    "                elif theme == 'Control':\n",
    "                    # Control wants utility creatures\n",
    "                    theme_alignment_score += creature_stats['creature_categories']['utility'] * 0.9\n",
    "                elif theme == 'Flying':\n",
    "                    # Flying theme wants evasive creatures\n",
    "                    flying_count = sum(1 for c in creatures if 'flying' in str(oracle_df[oracle_df['name'] == c['name']].iloc[0]['Oracle Text']).lower())\n",
    "                    theme_alignment_score += flying_count * 1.0\n",
    "                elif theme == 'Tokens':\n",
    "                    # Token themes often want smaller, efficient creatures\n",
    "                    theme_alignment_score += creature_stats['creature_categories']['small'] * 0.7\n",
    "                    theme_alignment_score += creature_stats['creature_categories']['utility'] * 0.8\n",
    "        \n",
    "        creature_stats['theme_alignment_score'] = theme_alignment_score / max(creature_stats['creature_count'], 1)\n",
    "        \n",
    "        return creature_stats\n",
    "    \n",
    "    def calculate_color_coherence(cards, deck_colors, oracle_df):\n",
    "        \"\"\"Calculate color identity coherence\"\"\"\n",
    "        if not deck_colors:\n",
    "            return 0.0, []\n",
    "        \n",
    "        color_issues = []\n",
    "        coherent_cards = 0\n",
    "        total_cards = 0\n",
    "        \n",
    "        for _, card_row in cards.iterrows():\n",
    "            card_name = card_row['Name']\n",
    "            oracle_card = oracle_df[oracle_df['name'] == card_name]\n",
    "            \n",
    "            if oracle_card.empty:\n",
    "                color_issues.append(f\"{card_name}: Not found in oracle\")\n",
    "                continue\n",
    "            \n",
    "            card_color = oracle_card.iloc[0]['Color']\n",
    "            card_category = oracle_card.iloc[0]['Color Category']\n",
    "            \n",
    "            total_cards += 1\n",
    "            \n",
    "            # Colorless and artifacts are always coherent\n",
    "            if card_category in ['Colorless', 'Lands'] or pd.isna(card_color):\n",
    "                coherent_cards += 1\n",
    "                continue\n",
    "            \n",
    "            # Check if card colors fit deck colors\n",
    "            if isinstance(card_color, str) and isinstance(deck_colors, str):\n",
    "                card_color_set = set(card_color)\n",
    "                deck_color_set = set(deck_colors)\n",
    "                \n",
    "                if card_color_set.issubset(deck_color_set):\n",
    "                    coherent_cards += 1\n",
    "                else:\n",
    "                    color_issues.append(f\"{card_name}: {card_color} doesn't fit {deck_colors}\")\n",
    "        \n",
    "        coherence_ratio = coherent_cards / total_cards if total_cards > 0 else 0\n",
    "        return coherence_ratio, color_issues\n",
    "    \n",
    "    def calculate_mana_curve_coherence(cards):\n",
    "        \"\"\"Calculate mana curve distribution\"\"\"\n",
    "        curve = {}\n",
    "        for _, card_row in cards.iterrows():\n",
    "            cmc = card_row.get('CMC', 0)\n",
    "            if pd.isna(cmc):\n",
    "                cmc = 0\n",
    "            cmc = int(cmc)\n",
    "            curve[cmc] = curve.get(cmc, 0) + 1\n",
    "        \n",
    "        # Ideal curve depends on strategy, but generally want a good distribution\n",
    "        total_cards = sum(curve.values())\n",
    "        if total_cards == 0:\n",
    "            return 0.0, curve\n",
    "        \n",
    "        # Calculate curve score (penalize too many high-cost cards)\n",
    "        curve_score = 0\n",
    "        for cmc, count in curve.items():\n",
    "            if cmc <= 3:\n",
    "                curve_score += count * 1.0  # Good\n",
    "            elif cmc <= 5:\n",
    "                curve_score += count * 0.8  # Okay\n",
    "            else:\n",
    "                curve_score += count * 0.4  # Heavy\n",
    "        \n",
    "        curve_ratio = curve_score / total_cards\n",
    "        return curve_ratio, curve\n",
    "    \n",
    "    # Analyze each deck\n",
    "    results = {}\n",
    "    decks = cube_df.groupby('Tags')\n",
    "    \n",
    "    for deck_name, deck_cards in decks:\n",
    "        # Determine deck colors\n",
    "        deck_colors = get_deck_colour(deck_name)\n",
    "        \n",
    "        # Extract expected themes\n",
    "        expected_themes = extract_theme_from_deck_name(deck_name)\n",
    "        \n",
    "        # Calculate scores\n",
    "        theme_score, theme_matches = calculate_theme_score(deck_cards, expected_themes, oracle_df)\n",
    "        color_coherence, color_issues = calculate_color_coherence(deck_cards, deck_colors, oracle_df)\n",
    "        curve_score, mana_curve = calculate_mana_curve_coherence(deck_cards)\n",
    "        creature_stats = calculate_creature_stats_coherence(deck_cards, expected_themes, oracle_df)\n",
    "        \n",
    "        # Overall coherence score (weighted average including creature stats)\n",
    "        creature_theme_score = creature_stats['theme_alignment_score'] * 20  # Scale to 0-100\n",
    "        overall_score = (\n",
    "            theme_score * 0.3 + \n",
    "            color_coherence * 100 * 0.3 + \n",
    "            curve_score * 100 * 0.2 + \n",
    "            creature_theme_score * 0.2\n",
    "        )\n",
    "        \n",
    "        results[deck_name] = {\n",
    "            'expected_themes': expected_themes,\n",
    "            'theme_score': theme_score,\n",
    "            'theme_matches': theme_matches,\n",
    "            'color_coherence': color_coherence,\n",
    "            'color_issues': color_issues,\n",
    "            'mana_curve_score': curve_score,\n",
    "            'mana_curve': mana_curve,\n",
    "            'creature_stats': creature_stats,\n",
    "            'overall_coherence': overall_score,\n",
    "            'deck_colors': deck_colors,\n",
    "            'card_count': len(deck_cards)\n",
    "        }\n",
    "    \n",
    "    return results"
   ]
  },
  {
   "cell_type": "code",
   "execution_count": 4,
   "id": "b11e8aeb",
   "metadata": {},
   "outputs": [],
   "source": [
    "def display_coherence_analysis_enhanced(coherence_results, top_n=5):\n",
    "    \"\"\"Display enhanced coherence analysis results including creature stats\"\"\"\n",
    "    \n",
    "    # Sort decks by overall coherence score\n",
    "    sorted_decks = sorted(coherence_results.items(), \n",
    "                         key=lambda x: x[1]['overall_coherence'], \n",
    "                         reverse=True)\n",
    "    \n",
    "    display(Markdown(\"# Enhanced Deck Theme Coherence Analysis\"))\n",
    "    \n",
    "    # Overall summary\n",
    "    avg_coherence = sum(r['overall_coherence'] for r in coherence_results.values()) / len(coherence_results)\n",
    "    display(Markdown(f\"**Average Coherence Score: {avg_coherence:.1f}/100**\"))\n",
    "    \n",
    "    # Top performing decks\n",
    "    display(Markdown(f\"## Top {top_n} Most Coherent Decks\"))\n",
    "    for i, (deck_name, analysis) in enumerate(sorted_decks[:top_n]):\n",
    "        display(Markdown(f\"### {i+1}. {deck_name}\"))\n",
    "        display(Markdown(f\"- **Overall Score: {analysis['overall_coherence']:.1f}/100**\"))\n",
    "        display(Markdown(f\"- **Expected Themes:** {', '.join(analysis['expected_themes'])}\"))\n",
    "        display(Markdown(f\"- **Theme Match Score:** {analysis['theme_score']:.1f}\"))\n",
    "        display(Markdown(f\"- **Color Coherence:** {analysis['color_coherence']:.1%}\"))\n",
    "        display(Markdown(f\"- **Mana Curve Score:** {analysis['mana_curve_score']:.1%}\"))\n",
    "        \n",
    "        # Creature stats\n",
    "        creature_stats = analysis['creature_stats']\n",
    "        display(Markdown(f\"- **Creature Count:** {creature_stats['creature_count']} ({creature_stats['creature_count']/analysis['card_count']:.1%} of deck)\"))\n",
    "        if creature_stats['creature_count'] > 0:\n",
    "            display(Markdown(f\"- **Avg Power/Toughness:** {creature_stats['avg_power']:.1f}/{creature_stats['avg_toughness']:.1f}\"))\n",
    "            display(Markdown(f\"- **Creature Mix:** Small: {creature_stats['creature_categories']['small']}, Medium: {creature_stats['creature_categories']['medium']}, Large: {creature_stats['creature_categories']['large']}\"))\n",
    "            display(Markdown(f\"- **Creature Theme Alignment:** {creature_stats['theme_alignment_score']:.1f}\"))\n",
    "        \n",
    "        if analysis['color_issues']:\n",
    "            display(Markdown(f\"- **Color Issues:** {len(analysis['color_issues'])} cards\"))\n",
    "    \n",
    "    # Bottom performing decks\n",
    "    display(Markdown(f\"## Bottom {top_n} Least Coherent Decks\"))\n",
    "    for i, (deck_name, analysis) in enumerate(sorted_decks[-top_n:]):\n",
    "        display(Markdown(f\"### {len(sorted_decks)-top_n+i+1}. {deck_name}\"))\n",
    "        display(Markdown(f\"- **Overall Score: {analysis['overall_coherence']:.1f}/100**\"))\n",
    "        display(Markdown(f\"- **Expected Themes:** {', '.join(analysis['expected_themes'])}\"))\n",
    "        display(Markdown(f\"- **Theme Match Score:** {analysis['theme_score']:.1f}\"))\n",
    "        display(Markdown(f\"- **Color Coherence:** {analysis['color_coherence']:.1%}\"))\n",
    "        \n",
    "        # Creature stats\n",
    "        creature_stats = analysis['creature_stats']\n",
    "        if creature_stats['creature_count'] > 0:\n",
    "            display(Markdown(f\"- **Avg Power/Toughness:** {creature_stats['avg_power']:.1f}/{creature_stats['avg_toughness']:.1f}\"))\n",
    "            display(Markdown(f\"- **Creature Theme Alignment:** {creature_stats['theme_alignment_score']:.1f}\"))\n",
    "        \n",
    "        if analysis['color_issues']:\n",
    "            display(Markdown(f\"- **Color Issues:** {analysis['color_issues'][:3]}\"))\n",
    "\n",
    "def analyze_specific_deck_enhanced(deck_name, cube_df, oracle_df, coherence_results):\n",
    "    \"\"\"Enhanced deck analysis including creature statistics\"\"\"\n",
    "    \n",
    "    if deck_name not in coherence_results:\n",
    "        print(f\"Deck '{deck_name}' not found!\")\n",
    "        return\n",
    "    \n",
    "    deck_data = coherence_results[deck_name]\n",
    "    deck_cards = cube_df[cube_df['Tags'] == deck_name]\n",
    "    creature_stats = deck_data['creature_stats']\n",
    "    \n",
    "    display(Markdown(f\"# Enhanced Analysis: {deck_name}\"))\n",
    "    display(Markdown(f\"**Overall Coherence Score: {deck_data['overall_coherence']:.1f}/100**\"))\n",
    "    \n",
    "    # Theme analysis\n",
    "    display(Markdown(\"## Theme Analysis\"))\n",
    "    display(Markdown(f\"**Expected Themes:** {', '.join(deck_data['expected_themes'])}\"))\n",
    "    display(Markdown(f\"**Theme Match Score:** {deck_data['theme_score']:.1f}\"))\n",
    "    \n",
    "    # Creature Statistics\n",
    "    display(Markdown(\"## Creature Statistics\"))\n",
    "    display(Markdown(f\"**Total Creatures:** {creature_stats['creature_count']} ({creature_stats['creature_count']/deck_data['card_count']:.1%} of deck)\"))\n",
    "    \n",
    "    if creature_stats['creature_count'] > 0:\n",
    "        display(Markdown(f\"**Average Power/Toughness:** {creature_stats['avg_power']:.1f}/{creature_stats['avg_toughness']:.1f}\"))\n",
    "        display(Markdown(f\"**Total Power/Toughness:** {creature_stats['total_power']:.0f}/{creature_stats['total_toughness']:.0f}\"))\n",
    "        display(Markdown(f\"**Creature Theme Alignment Score:** {creature_stats['theme_alignment_score']:.1f}\"))\n",
    "        \n",
    "        # Creature categories\n",
    "        display(Markdown(\"### Creature Categories:\"))\n",
    "        display(Markdown(f\"- **Small (≤2 power):** {creature_stats['creature_categories']['small']} creatures\"))\n",
    "        display(Markdown(f\"- **Medium (3-4 power):** {creature_stats['creature_categories']['medium']} creatures\"))\n",
    "        display(Markdown(f\"- **Large (≥5 power):** {creature_stats['creature_categories']['large']} creatures\"))\n",
    "        display(Markdown(f\"- **Evasive abilities:** {creature_stats['creature_categories']['evasive']} creatures\"))\n",
    "        display(Markdown(f\"- **Utility abilities:** {creature_stats['creature_categories']['utility']} creatures\"))\n",
    "        \n",
    "        # Power distribution\n",
    "        if creature_stats['power_distribution']:\n",
    "            power_dist = \", \".join([f\"{k}: {v}\" for k, v in sorted(creature_stats['power_distribution'].items())])\n",
    "            display(Markdown(f\"**Power Distribution:** {power_dist}\"))\n",
    "        \n",
    "        # Show individual creatures\n",
    "        if creature_stats['creature_details']:\n",
    "            display(Markdown(\"### Creature Details:\"))\n",
    "            for creature in creature_stats['creature_details'][:10]:  # Show first 10\n",
    "                categories_str = \", \".join(creature['categories']) if creature['categories'] else \"basic\"\n",
    "                display(Markdown(f\"- **{creature['name']}** ({creature['power']:.0f}/{creature['toughness']:.0f}) - {categories_str}\"))\n",
    "    \n",
    "    # Color coherence\n",
    "    display(Markdown(\"## Color Analysis\"))\n",
    "    display(Markdown(f\"**Deck Colors:** {deck_data['deck_colors']}\"))\n",
    "    display(Markdown(f\"**Color Coherence:** {deck_data['color_coherence']:.1%}\"))\n",
    "    \n",
    "    if deck_data['color_issues']:\n",
    "        display(Markdown(\"### Color Issues:\"))\n",
    "        for issue in deck_data['color_issues'][:5]:\n",
    "            display(Markdown(f\"- {issue}\"))\n",
    "    \n",
    "    # Mana curve\n",
    "    display(Markdown(\"## Mana Curve Analysis\"))\n",
    "    display(Markdown(f\"**Mana Curve Score:** {deck_data['mana_curve_score']:.1%}\"))\n",
    "    \n",
    "    curve_display = []\n",
    "    for cmc in sorted(deck_data['mana_curve'].keys()):\n",
    "        count = deck_data['mana_curve'][cmc]\n",
    "        curve_display.append(f\"CMC {cmc}: {count} cards\")\n",
    "    \n",
    "    display(Markdown(\"**Curve Distribution:**\"))\n",
    "    for item in curve_display:\n",
    "        display(Markdown(f\"- {item}\"))\n",
    "    \n",
    "    # Enhanced recommendations including creature analysis\n",
    "    display(Markdown(\"## Improvement Recommendations\"))\n",
    "    \n",
    "    recommendations = []\n",
    "    \n",
    "    if deck_data['theme_score'] < 2.0:\n",
    "        recommendations.append(\"🎯 **Theme Focus**: Consider adding more cards that directly support the deck's themes\")\n",
    "    \n",
    "    if deck_data['color_coherence'] < 0.9:\n",
    "        recommendations.append(\"🎨 **Color Issues**: Some cards don't fit the color identity - consider replacements\")\n",
    "    \n",
    "    if deck_data['mana_curve_score'] < 0.8:\n",
    "        recommendations.append(\"⚡ **Mana Curve**: Consider adjusting the mana curve for better balance\")\n",
    "    \n",
    "    # Creature-specific recommendations\n",
    "    if creature_stats['creature_count'] > 0:\n",
    "        if creature_stats['theme_alignment_score'] < 1.0:\n",
    "            recommendations.append(\"👹 **Creature Synergy**: Creature stats don't align well with deck themes\")\n",
    "        \n",
    "        expected_themes = deck_data['expected_themes']\n",
    "        if 'Aggro' in expected_themes and creature_stats['creature_categories']['large'] > creature_stats['creature_categories']['small']:\n",
    "            recommendations.append(\"⚡ **Aggro Focus**: Consider more small, efficient creatures for aggro strategy\")\n",
    "        \n",
    "        if 'Big Creatures' in expected_themes and creature_stats['avg_power'] < 4:\n",
    "            recommendations.append(\"💪 **Big Creatures**: Average creature power is low for a big creatures theme\")\n",
    "        \n",
    "        if 'Flying' in expected_themes and creature_stats['creature_categories']['evasive'] < creature_stats['creature_count'] * 0.5:\n",
    "            recommendations.append(\"🕊️ **Flying Theme**: Consider more creatures with flying or evasion\")\n",
    "    \n",
    "    # Check for missing card types\n",
    "    creature_count = creature_stats['creature_count']\n",
    "    spell_count = len(deck_cards) - creature_count\n",
    "    \n",
    "    if creature_count < 4:\n",
    "        recommendations.append(\"👹 **Creatures**: Consider adding more creatures for board presence\")\n",
    "    elif creature_count > 10:\n",
    "        recommendations.append(\"📜 **Spells**: Consider adding more non-creature spells for versatility\")\n",
    "    \n",
    "    if not recommendations:\n",
    "        recommendations.append(\"✅ **Excellent Balance**: Deck shows great coherence across all metrics including creature synergy!\")\n",
    "    \n",
    "    for rec in recommendations:\n",
    "        display(Markdown(f\"- {rec}\"))"
   ]
  },
  {
   "cell_type": "code",
   "execution_count": 12,
   "id": "266898f6",
   "metadata": {},
   "outputs": [
    {
     "data": {
      "text/markdown": [
       "# Enhanced Analysis: Azorius Evasion/Flying"
      ],
      "text/plain": [
       "<IPython.core.display.Markdown object>"
      ]
     },
     "metadata": {},
     "output_type": "display_data"
    },
    {
     "data": {
      "text/markdown": [
       "**Overall Coherence Score: 55.7/100**"
      ],
      "text/plain": [
       "<IPython.core.display.Markdown object>"
      ]
     },
     "metadata": {},
     "output_type": "display_data"
    },
    {
     "data": {
      "text/markdown": [
       "## Theme Analysis"
      ],
      "text/plain": [
       "<IPython.core.display.Markdown object>"
      ]
     },
     "metadata": {},
     "output_type": "display_data"
    },
    {
     "data": {
      "text/markdown": [
       "**Expected Themes:** Flying, Control"
      ],
      "text/plain": [
       "<IPython.core.display.Markdown object>"
      ]
     },
     "metadata": {},
     "output_type": "display_data"
    },
    {
     "data": {
      "text/markdown": [
       "**Theme Match Score:** 2.7"
      ],
      "text/plain": [
       "<IPython.core.display.Markdown object>"
      ]
     },
     "metadata": {},
     "output_type": "display_data"
    },
    {
     "data": {
      "text/markdown": [
       "## Creature Statistics"
      ],
      "text/plain": [
       "<IPython.core.display.Markdown object>"
      ]
     },
     "metadata": {},
     "output_type": "display_data"
    },
    {
     "data": {
      "text/markdown": [
       "**Total Creatures:** 5 (38.5% of deck)"
      ],
      "text/plain": [
       "<IPython.core.display.Markdown object>"
      ]
     },
     "metadata": {},
     "output_type": "display_data"
    },
    {
     "data": {
      "text/markdown": [
       "**Average Power/Toughness:** 2.0/2.0"
      ],
      "text/plain": [
       "<IPython.core.display.Markdown object>"
      ]
     },
     "metadata": {},
     "output_type": "display_data"
    },
    {
     "data": {
      "text/markdown": [
       "**Total Power/Toughness:** 10/10"
      ],
      "text/plain": [
       "<IPython.core.display.Markdown object>"
      ]
     },
     "metadata": {},
     "output_type": "display_data"
    },
    {
     "data": {
      "text/markdown": [
       "**Creature Theme Alignment Score:** 1.5"
      ],
      "text/plain": [
       "<IPython.core.display.Markdown object>"
      ]
     },
     "metadata": {},
     "output_type": "display_data"
    },
    {
     "data": {
      "text/markdown": [
       "### Creature Categories:"
      ],
      "text/plain": [
       "<IPython.core.display.Markdown object>"
      ]
     },
     "metadata": {},
     "output_type": "display_data"
    },
    {
     "data": {
      "text/markdown": [
       "- **Small (≤2 power):** 3 creatures"
      ],
      "text/plain": [
       "<IPython.core.display.Markdown object>"
      ]
     },
     "metadata": {},
     "output_type": "display_data"
    },
    {
     "data": {
      "text/markdown": [
       "- **Medium (3-4 power):** 2 creatures"
      ],
      "text/plain": [
       "<IPython.core.display.Markdown object>"
      ]
     },
     "metadata": {},
     "output_type": "display_data"
    },
    {
     "data": {
      "text/markdown": [
       "- **Large (≥5 power):** 0 creatures"
      ],
      "text/plain": [
       "<IPython.core.display.Markdown object>"
      ]
     },
     "metadata": {},
     "output_type": "display_data"
    },
    {
     "data": {
      "text/markdown": [
       "- **Evasive abilities:** 4 creatures"
      ],
      "text/plain": [
       "<IPython.core.display.Markdown object>"
      ]
     },
     "metadata": {},
     "output_type": "display_data"
    },
    {
     "data": {
      "text/markdown": [
       "- **Utility abilities:** 4 creatures"
      ],
      "text/plain": [
       "<IPython.core.display.Markdown object>"
      ]
     },
     "metadata": {},
     "output_type": "display_data"
    },
    {
     "data": {
      "text/markdown": [
       "**Power Distribution:** 1: 2, 2: 1, 3: 2"
      ],
      "text/plain": [
       "<IPython.core.display.Markdown object>"
      ]
     },
     "metadata": {},
     "output_type": "display_data"
    },
    {
     "data": {
      "text/markdown": [
       "### Creature Details:"
      ],
      "text/plain": [
       "<IPython.core.display.Markdown object>"
      ]
     },
     "metadata": {},
     "output_type": "display_data"
    },
    {
     "data": {
      "text/markdown": [
       "- **Archaeomancer** (1/2) - small, utility"
      ],
      "text/plain": [
       "<IPython.core.display.Markdown object>"
      ]
     },
     "metadata": {},
     "output_type": "display_data"
    },
    {
     "data": {
      "text/markdown": [
       "- **Lyev Skyknight** (3/1) - medium, evasive, utility"
      ],
      "text/plain": [
       "<IPython.core.display.Markdown object>"
      ]
     },
     "metadata": {},
     "output_type": "display_data"
    },
    {
     "data": {
      "text/markdown": [
       "- **Peregrine Drake** (2/3) - small, evasive, utility"
      ],
      "text/plain": [
       "<IPython.core.display.Markdown object>"
      ]
     },
     "metadata": {},
     "output_type": "display_data"
    },
    {
     "data": {
      "text/markdown": [
       "- **Silver Drake** (3/3) - medium, evasive, utility"
      ],
      "text/plain": [
       "<IPython.core.display.Markdown object>"
      ]
     },
     "metadata": {},
     "output_type": "display_data"
    },
    {
     "data": {
      "text/markdown": [
       "- **Judge's Familiar** (1/1) - small, evasive"
      ],
      "text/plain": [
       "<IPython.core.display.Markdown object>"
      ]
     },
     "metadata": {},
     "output_type": "display_data"
    },
    {
     "data": {
      "text/markdown": [
       "## Color Analysis"
      ],
      "text/plain": [
       "<IPython.core.display.Markdown object>"
      ]
     },
     "metadata": {},
     "output_type": "display_data"
    },
    {
     "data": {
      "text/markdown": [
       "**Deck Colors:** WU"
      ],
      "text/plain": [
       "<IPython.core.display.Markdown object>"
      ]
     },
     "metadata": {},
     "output_type": "display_data"
    },
    {
     "data": {
      "text/markdown": [
       "**Color Coherence:** 100.0%"
      ],
      "text/plain": [
       "<IPython.core.display.Markdown object>"
      ]
     },
     "metadata": {},
     "output_type": "display_data"
    },
    {
     "data": {
      "text/markdown": [
       "## Mana Curve Analysis"
      ],
      "text/plain": [
       "<IPython.core.display.Markdown object>"
      ]
     },
     "metadata": {},
     "output_type": "display_data"
    },
    {
     "data": {
      "text/markdown": [
       "**Mana Curve Score:** 93.8%"
      ],
      "text/plain": [
       "<IPython.core.display.Markdown object>"
      ]
     },
     "metadata": {},
     "output_type": "display_data"
    },
    {
     "data": {
      "text/markdown": [
       "**Curve Distribution:**"
      ],
      "text/plain": [
       "<IPython.core.display.Markdown object>"
      ]
     },
     "metadata": {},
     "output_type": "display_data"
    },
    {
     "data": {
      "text/markdown": [
       "- CMC 0: 2 cards"
      ],
      "text/plain": [
       "<IPython.core.display.Markdown object>"
      ]
     },
     "metadata": {},
     "output_type": "display_data"
    },
    {
     "data": {
      "text/markdown": [
       "- CMC 1: 3 cards"
      ],
      "text/plain": [
       "<IPython.core.display.Markdown object>"
      ]
     },
     "metadata": {},
     "output_type": "display_data"
    },
    {
     "data": {
      "text/markdown": [
       "- CMC 2: 1 cards"
      ],
      "text/plain": [
       "<IPython.core.display.Markdown object>"
      ]
     },
     "metadata": {},
     "output_type": "display_data"
    },
    {
     "data": {
      "text/markdown": [
       "- CMC 3: 3 cards"
      ],
      "text/plain": [
       "<IPython.core.display.Markdown object>"
      ]
     },
     "metadata": {},
     "output_type": "display_data"
    },
    {
     "data": {
      "text/markdown": [
       "- CMC 4: 2 cards"
      ],
      "text/plain": [
       "<IPython.core.display.Markdown object>"
      ]
     },
     "metadata": {},
     "output_type": "display_data"
    },
    {
     "data": {
      "text/markdown": [
       "- CMC 5: 2 cards"
      ],
      "text/plain": [
       "<IPython.core.display.Markdown object>"
      ]
     },
     "metadata": {},
     "output_type": "display_data"
    },
    {
     "data": {
      "text/markdown": [
       "## Improvement Recommendations"
      ],
      "text/plain": [
       "<IPython.core.display.Markdown object>"
      ]
     },
     "metadata": {},
     "output_type": "display_data"
    },
    {
     "data": {
      "text/markdown": [
       "- ✅ **Excellent Balance**: Deck shows great coherence across all metrics including creature synergy!"
      ],
      "text/plain": [
       "<IPython.core.display.Markdown object>"
      ]
     },
     "metadata": {},
     "output_type": "display_data"
    }
   ],
   "source": [
    "analyze_specific_deck_enhanced(\"Azorius Evasion/Flying\", cube_df, oracle_df,analyze_deck_theme_coherence_enhanced(cube_df, oracle_df))"
   ]
  },
  {
   "cell_type": "code",
   "execution_count": 6,
   "id": "2a0ae68f",
   "metadata": {},
   "outputs": [],
   "source": [
    "# validation_results = validate_jumpstart_cube(cube_df, oracle_df)\n",
    "# display_validate_results(validation_results)"
   ]
  },
  {
   "cell_type": "markdown",
   "id": "cb020dae",
   "metadata": {},
   "source": [
    "# Generated Below"
   ]
  },
  {
   "cell_type": "markdown",
   "id": "ee5acf8c",
   "metadata": {},
   "source": [
    "# Enhanced Analysis Summary\n",
    "\n",
    "## What's New in the Enhanced Version\n",
    "\n",
    "The enhanced `analyze_deck_theme_coherence_enhanced` function now includes comprehensive **power and toughness analysis** for creatures:\n",
    "\n",
    "### New Creature Statistics\n",
    "- **Total and average power/toughness** for all creatures in each deck\n",
    "- **Power and toughness distributions** showing how many creatures at each power level\n",
    "- **Creature categorization**: Small (≤2 power), Medium (3-4 power), Large (≥5 power)\n",
    "- **Ability categorization**: Evasive abilities (flying, trample, etc.) and Utility abilities (ETB effects, etc.)\n",
    "- **Theme alignment scoring** based on creature stats matching expected deck themes\n",
    "\n",
    "### Theme-Specific Power/Toughness Analysis\n",
    "- **Aggro decks**: Rewards small, efficient creatures with evasion\n",
    "- **Big Creatures decks**: Rewards high power creatures and higher average power\n",
    "- **Control decks**: Rewards utility creatures regardless of size\n",
    "- **Flying decks**: Specifically looks for flying creatures\n",
    "- **Token decks**: Favors smaller creatures that support token strategies\n",
    "\n",
    "### Enhanced Recommendations\n",
    "The analysis now provides specific recommendations based on creature stats:\n",
    "- Warns when \"Big Creatures\" decks have low average power\n",
    "- Suggests more small creatures for aggro strategies\n",
    "- Identifies when creature themes don't align with deck strategy\n",
    "\n",
    "### Example Insights from \"Green Big Creatures\"\n",
    "- **Only 2 out of 10 creatures** are actually \"large\" (≥5 power)\n",
    "- **Average power of 3.2** is relatively low for a \"big creatures\" theme\n",
    "- **Creature theme alignment score of 0.3** indicates poor synergy\n",
    "- **Recommendation**: Add more high-power creatures to match the deck's theme\n",
    "\n",
    "This enhanced analysis provides much more actionable feedback for improving deck coherence and theme alignment!"
   ]
  }
 ],
 "metadata": {
  "kernelspec": {
   "display_name": "magic",
   "language": "python",
   "name": "python3"
  },
  "language_info": {
   "codemirror_mode": {
    "name": "ipython",
    "version": 3
   },
   "file_extension": ".py",
   "mimetype": "text/x-python",
   "name": "python",
   "nbconvert_exporter": "python",
   "pygments_lexer": "ipython3",
   "version": "3.13.2"
  }
 },
 "nbformat": 4,
 "nbformat_minor": 5
}
