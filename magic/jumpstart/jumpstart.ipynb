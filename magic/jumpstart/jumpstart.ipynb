{
 "cells": [
  {
   "cell_type": "code",
   "execution_count": 1,
   "id": "6ef0b8fa",
   "metadata": {},
   "outputs": [],
   "source": [
    "import pandas as pd\n",
    "from dotenv import load_dotenv\n",
    "from openai import OpenAI\n",
    "from anthropic import Anthropic\n",
    "from src.consts import *\n",
    "from src.validation import validate_jumpstart_cube, display_validate_results\n",
    "from src.coherence import analyze_deck_theme_coherence_enhanced\n",
    "from src.improve import apply_swap\n",
    "\n",
    "load_dotenv(override=True)\n",
    "openai = OpenAI()\n",
    "anthropic = Anthropic() \n",
    "\n",
    "# Load the data files\n",
    "oracle_df = pd.read_csv('ThePauperCube_oracle_with_pt.csv')\n",
    "cube_df = pd.read_csv('JumpstartCube_ThePauperCube_ULTIMATE_Final_v3.csv')"
   ]
  },
  {
   "cell_type": "markdown",
   "id": "4ed2b044",
   "metadata": {},
   "source": [
    "# Generated"
   ]
  },
  {
   "cell_type": "code",
   "execution_count": 2,
   "id": "56f05954",
   "metadata": {},
   "outputs": [],
   "source": [
    "# # Import the new swap recommendation function\n",
    "\n",
    "# # Get all deck coherence results first\n",
    "# from src.coherence import display_coherence_analysis_enhanced\n",
    "# from src.improve import display_swap_recommendations, find_best_card_swaps_for_deck\n",
    "\n",
    "\n",
    "# coherence_results = analyze_deck_theme_coherence_enhanced(cube_df, oracle_df)\n",
    "# print(coherence_results['Green Big Creatures']['overall_coherence'])\n",
    "# display_coherence_analysis_enhanced(coherence_results)\n",
    "\n",
    "# # Find the deck with the lowest coherence score for improvement\n",
    "# worst_deck = min(coherence_results.items(), key=lambda x: x[1]['overall_coherence'])\n",
    "# deck_to_improve = worst_deck[0]\n",
    "\n",
    "# print(f\"Deck with lowest coherence: {deck_to_improve} (Score: {worst_deck[1]['overall_coherence']:.1f})\")\n",
    "\n",
    "# # Find the best card swaps for this deck\n",
    "# swap_recommendations = find_best_card_swaps_for_deck(\n",
    "#     deck_to_improve, \n",
    "#     cube_df, \n",
    "#     oracle_df, \n",
    "#     coherence_results, \n",
    "#     num_swaps=2\n",
    "# )\n",
    "\n",
    "# # Display the recommendations\n",
    "# display_swap_recommendations(swap_recommendations)"
   ]
  },
  {
   "cell_type": "code",
   "execution_count": null,
   "id": "e93b8df7",
   "metadata": {},
   "outputs": [
    {
     "ename": "AttributeError",
     "evalue": "'dict' object has no attribute 'iloc'",
     "output_type": "error",
     "traceback": [
      "\u001b[31m---------------------------------------------------------------------------\u001b[39m",
      "\u001b[31mAttributeError\u001b[39m                            Traceback (most recent call last)",
      "\u001b[36mCell\u001b[39m\u001b[36m \u001b[39m\u001b[32mIn[23]\u001b[39m\u001b[32m, line 13\u001b[39m\n\u001b[32m     11\u001b[39m cards = get_candidate_cards_for_swap(deck_name, cube_df, oracle_df, deck_colors, expected_themes)\n\u001b[32m     12\u001b[39m \u001b[38;5;28;01mfor\u001b[39;00m card \u001b[38;5;129;01min\u001b[39;00m cards:\n\u001b[32m---> \u001b[39m\u001b[32m13\u001b[39m     card_details = calculate_card_theme_score(\u001b[43mcard\u001b[49m\u001b[43m.\u001b[49m\u001b[43miloc\u001b[49m[\u001b[32m0\u001b[39m], expected_themes)\n\u001b[32m     14\u001b[39m     \u001b[38;5;28mprint\u001b[39m(\u001b[33mf\u001b[39m\u001b[33m\"\u001b[39m\u001b[33mCard: \u001b[39m\u001b[38;5;132;01m{\u001b[39;00mcard_details\u001b[38;5;132;01m}\u001b[39;00m\u001b[33m\"\u001b[39m)\n",
      "\u001b[31mAttributeError\u001b[39m: 'dict' object has no attribute 'iloc'"
     ]
    }
   ],
   "source": [
    "from src.deck import calculate_card_theme_score\n",
    "from src.improve import find_best_card_swaps_for_deck, get_candidate_cards_for_swap\n",
    "deck_name = \"Green Midrange\"\n",
    "\n",
    "coherence_results = analyze_deck_theme_coherence_enhanced(cube_df, oracle_df)\n",
    "\n",
    "deck_analysis = coherence_results[deck_name]\n",
    "expected_themes = deck_analysis['expected_themes']\n",
    "deck_colors = deck_analysis['deck_colors']\n",
    "\n",
    "cards = get_candidate_cards_for_swap(deck_name, cube_df, oracle_df, deck_colors, expected_themes)\n",
    "for card in cards:\n",
    "    card_details = calculate_card_theme_score(card, expected_themes)\n",
    "    print(f\"Card: {card_details}\")"
   ]
  },
  {
   "cell_type": "code",
   "execution_count": null,
   "id": "fdba916f",
   "metadata": {},
   "outputs": [],
   "source": [
    "calculate_card_theme_score(card, cube_df, oracle_df)\n",
    "\n",
    "specific_swaps = find_best_card_swaps_for_deck(\n",
    "    \"Green Midrange\", \n",
    "    cube_df, \n",
    "    oracle_df, \n",
    "    coherence_results, \n",
    "    num_swaps=2\n",
    ")\n",
    "print(specific_swaps['best_swaps'])"
   ]
  },
  {
   "cell_type": "code",
   "execution_count": 16,
   "id": "2a2f16e9",
   "metadata": {},
   "outputs": [
    {
     "data": {
      "text/markdown": [
       "Analyzing deck: Green Midrange"
      ],
      "text/plain": [
       "<IPython.core.display.Markdown object>"
      ]
     },
     "metadata": {},
     "output_type": "display_data"
    },
    {
     "data": {
      "text/markdown": [
       "Current coherence: 0.8"
      ],
      "text/plain": [
       "<IPython.core.display.Markdown object>"
      ]
     },
     "metadata": {},
     "output_type": "display_data"
    },
    {
     "data": {
      "text/markdown": [
       "Expected themes: Midrange"
      ],
      "text/plain": [
       "<IPython.core.display.Markdown object>"
      ]
     },
     "metadata": {},
     "output_type": "display_data"
    },
    {
     "data": {
      "text/markdown": [
       "Deck colors: G"
      ],
      "text/plain": [
       "<IPython.core.display.Markdown object>"
      ]
     },
     "metadata": {},
     "output_type": "display_data"
    },
    {
     "data": {
      "text/markdown": [
       "Found 70 candidate cards to consider"
      ],
      "text/plain": [
       "<IPython.core.display.Markdown object>"
      ]
     },
     "metadata": {},
     "output_type": "display_data"
    },
    {
     "data": {
      "text/markdown": [
       "Identified 13 cards as potential removal candidates"
      ],
      "text/plain": [
       "<IPython.core.display.Markdown object>"
      ]
     },
     "metadata": {},
     "output_type": "display_data"
    },
    {
     "data": {
      "text/markdown": [
       "# 🔄 Swap Recommendations for Green Midrange"
      ],
      "text/plain": [
       "<IPython.core.display.Markdown object>"
      ]
     },
     "metadata": {},
     "output_type": "display_data"
    },
    {
     "data": {
      "text/markdown": [
       "❌ **No beneficial swaps found.** The deck may already be well-optimized, or there may not be suitable replacement cards available."
      ],
      "text/plain": [
       "<IPython.core.display.Markdown object>"
      ]
     },
     "metadata": {},
     "output_type": "display_data"
    },
    {
     "name": "stdout",
     "output_type": "stream",
     "text": [
      "No available swaps to apply for this deck.\n",
      "Card: Bloom Hulk, Score: 1, Themes: ['Midrange']\n",
      "Card: Conclave Naturalists, Score: 1, Themes: ['Midrange']\n",
      "Card: Grapple with the Past, Score: 1, Themes: ['Midrange']\n",
      "Card: Hooting Mandrills, Score: 1, Themes: ['Midrange']\n",
      "Card: Longstalk Brawl, Score: 1, Themes: ['Midrange']\n",
      "Card: Massive Might, Score: 1, Themes: ['Midrange']\n",
      "Card: Rancor, Score: 1, Themes: ['Midrange']\n",
      "Card: Trumpeting Herd, Score: 1, Themes: ['Midrange']\n",
      "Card: Vines of Vastwood, Score: 1, Themes: ['Midrange']\n",
      "Card: Bannerhide Krushok, Score: 1, Themes: ['Midrange']\n",
      "Card: Elvish Mystic, Score: 1, Themes: ['Midrange']\n",
      "Card: Witch's Cottage, Score: 1, Themes: ['Midrange']\n",
      "Card: Arbor Elf, Score: 1, Themes: ['Midrange']\n",
      "0.8338461538461538\n",
      "{'expected_themes': ['Midrange'], 'theme_score': 1.0, 'theme_matches': [{'card': 'Bloom Hulk', 'score': 1, 'themes': ['Midrange']}, {'card': 'Conclave Naturalists', 'score': 1, 'themes': ['Midrange']}, {'card': 'Grapple with the Past', 'score': 1, 'themes': ['Midrange']}, {'card': 'Hooting Mandrills', 'score': 1, 'themes': ['Midrange']}, {'card': 'Longstalk Brawl', 'score': 1, 'themes': ['Midrange']}, {'card': 'Massive Might', 'score': 1, 'themes': ['Midrange']}, {'card': 'Rancor', 'score': 1, 'themes': ['Midrange']}, {'card': 'Trumpeting Herd', 'score': 1, 'themes': ['Midrange']}, {'card': 'Vines of Vastwood', 'score': 1, 'themes': ['Midrange']}, {'card': 'Bannerhide Krushok', 'score': 1, 'themes': ['Midrange']}, {'card': 'Elvish Mystic', 'score': 1, 'themes': ['Midrange']}, {'card': \"Witch's Cottage\", 'score': 1, 'themes': ['Midrange']}, {'card': 'Arbor Elf', 'score': 1, 'themes': ['Midrange']}], 'color_coherence': 1.0, 'color_issues': [], 'mana_curve_score': 0.8923076923076925, 'mana_curve': {4: 3, 5: 1, 2: 1, 6: 1, 1: 6, 0: 1}, 'creature_stats': {'creature_count': 7, 'total_power': 18.0, 'total_toughness': 18.0, 'avg_power': 2.5714285714285716, 'avg_toughness': 2.5714285714285716, 'power_distribution': {4: 4, 0: 1, 1: 2}, 'toughness_distribution': {4: 4, 0: 1, 1: 2}, 'creature_categories': {'small': 3, 'medium': 4, 'large': 0, 'utility': 2, 'evasive': 2}, 'theme_alignment_score': 0.0, 'creature_details': [{'name': 'Bloom Hulk', 'power': 4.0, 'toughness': 4.0, 'categories': ['medium', 'utility'], 'has_evasion': False, 'has_utility': True}, {'name': 'Conclave Naturalists', 'power': 4.0, 'toughness': 4.0, 'categories': ['medium', 'utility'], 'has_evasion': False, 'has_utility': True}, {'name': 'Hooting Mandrills', 'power': 4.0, 'toughness': 4.0, 'categories': ['medium', 'evasive'], 'has_evasion': True, 'has_utility': False}, {'name': 'Trumpeting Herd', 'power': 0.0, 'toughness': 0.0, 'categories': ['small'], 'has_evasion': False, 'has_utility': False}, {'name': 'Bannerhide Krushok', 'power': 4.0, 'toughness': 4.0, 'categories': ['medium', 'evasive'], 'has_evasion': True, 'has_utility': False}, {'name': 'Elvish Mystic', 'power': 1.0, 'toughness': 1.0, 'categories': ['small'], 'has_evasion': False, 'has_utility': False}, {'name': 'Arbor Elf', 'power': 1.0, 'toughness': 1.0, 'categories': ['small'], 'has_evasion': False, 'has_utility': False}]}, 'overall_coherence': 0.8338461538461538, 'deck_colors': 'G', 'card_count': 13}\n"
     ]
    }
   ],
   "source": [
    "# You can also analyze a specific deck by name\n",
    "# Example: Analyze the \"Green Big Creatures\" deck\n",
    "\n",
    "from src.process import optimize_deck_coherence\n",
    "\n",
    "cube_df = optimize_deck_coherence(cube_df=cube_df, oracle_df=oracle_df)"
   ]
  },
  {
   "cell_type": "code",
   "execution_count": 4,
   "id": "b89cb5cc",
   "metadata": {},
   "outputs": [
    {
     "name": "stdout",
     "output_type": "stream",
     "text": [
      "Exporting cube to JumpstartCube_ThePauperCube_ULTIMATE_Final_v4.csv...\n",
      "✅ Successfully exported 390 cards to JumpstartCube_ThePauperCube_ULTIMATE_Final_v4.csv\n",
      "\n",
      "📊 Export Summary:\n",
      "Total cards: 390\n",
      "Number of decks: 30\n",
      "\n",
      "Deck breakdown:\n",
      "  Azorius Evasion/Flying: 13 cards\n",
      "  Black Aggro: 13 cards\n",
      "  White Equipment: 13 cards\n",
      "  White Control: 13 cards\n",
      "  White Aggro: 13 cards\n",
      "  Simic Control: 13 cards\n",
      "  Selesnya Control: 13 cards\n",
      "  Red Artifacts: 13 cards\n",
      "  Red Burn: 13 cards\n",
      "  Rakdos Burn/Damage: 13 cards\n",
      "  ... and 20 more decks\n"
     ]
    },
    {
     "data": {
      "text/plain": [
       "'JumpstartCube_ThePauperCube_ULTIMATE_Final_v4.csv'"
      ]
     },
     "execution_count": 4,
     "metadata": {},
     "output_type": "execute_result"
    }
   ],
   "source": [
    "# display_coherence_analysis_enhanced(analyze_deck_theme_coherence_enhanced(cube_df, oracle_df))\n",
    "\n",
    "from src.export import export_cube_to_csv\n",
    "\n",
    "\n",
    "export_cube_to_csv(cube_df, oracle_df, 'JumpstartCube_ThePauperCube_ULTIMATE_Final_v4.csv')"
   ]
  },
  {
   "cell_type": "code",
   "execution_count": null,
   "id": "4124b064",
   "metadata": {},
   "outputs": [],
   "source": []
  }
 ],
 "metadata": {
  "kernelspec": {
   "display_name": "magic",
   "language": "python",
   "name": "python3"
  },
  "language_info": {
   "codemirror_mode": {
    "name": "ipython",
    "version": 3
   },
   "file_extension": ".py",
   "mimetype": "text/x-python",
   "name": "python",
   "nbconvert_exporter": "python",
   "pygments_lexer": "ipython3",
   "version": "3.13.2"
  }
 },
 "nbformat": 4,
 "nbformat_minor": 5
}
