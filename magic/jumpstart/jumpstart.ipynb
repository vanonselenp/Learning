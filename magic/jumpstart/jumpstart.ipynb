{
 "cells": [
  {
   "cell_type": "code",
   "execution_count": null,
   "id": "3a3c3bbb",
   "metadata": {},
   "outputs": [],
   "source": [
    "import os\n",
    "import json\n",
    "import requests\n",
    "import pandas as pd\n",
    "from dotenv import load_dotenv\n",
    "from openai import OpenAI\n",
    "from anthropic import Anthropic\n",
    "from IPython.display import Markdown, display\n",
    "import numbers\n",
    "from src.consts import *\n",
    "from src.deck import get_deck_colour\n",
    "from src.validation import validate_jumpstart_cube\n",
    "from src.coherence import analyze_deck_theme_coherence_enhanced\n",
    "\n",
    "load_dotenv(override=True)\n",
    "openai = OpenAI()\n",
    "anthropic = Anthropic() \n",
    "\n",
    "\n",
    "# Load the data files\n",
    "oracle_df = pd.read_csv('ThePauperCube_oracle_with_pt.csv')\n",
    "cube_df = pd.read_csv('JumpstartCube_ThePauperCube_ULTIMATE_Final_v3.csv')"
   ]
  },
  {
   "cell_type": "code",
   "execution_count": 3,
   "id": "9f042cef",
   "metadata": {},
   "outputs": [],
   "source": [
    "\n",
    "def fetch_card_power_toughness(mtgo_id):\n",
    "    \"\"\"\n",
    "    Fetch card data from Scryfall API using MTGO ID\n",
    "    Returns power and toughness if the card is a creature, otherwise returns None, None\n",
    "    \"\"\"\n",
    "    url = f\"https://api.scryfall.com/cards/mtgo/{int(mtgo_id)}\"\n",
    "    \n",
    "    try:\n",
    "        response = requests.get(url)\n",
    "        response.raise_for_status()  # Raises an HTTPError for bad responses\n",
    "        \n",
    "        card_data = response.json()\n",
    "        \n",
    "        # Check if the card is a creature\n",
    "        if 'Creature' in card_data.get('type_line', ''):\n",
    "            power = card_data.get('power')\n",
    "            toughness = card_data.get('toughness')\n",
    "            return power, toughness\n",
    "        else:\n",
    "            return None, None\n",
    "            \n",
    "    except requests.exceptions.RequestException as e:\n",
    "        print(f\"Error fetching data for MTGO ID {mtgo_id}: {e}\")\n",
    "        return None, None\n",
    "    except KeyError as e:\n",
    "        print(f\"Missing expected data for MTGO ID {mtgo_id}: {e}\")\n",
    "        return None, None\n",
    "\n",
    "def display_validate_results(validation_results):\n",
    "    \"\"\"Display validation results in a readable format\"\"\"\n",
    "    if validation_results['is_valid']:\n",
    "        display(Markdown(\"### Cube is valid! 🎉\"))\n",
    "    else:\n",
    "        display(Markdown(\"### Cube has issues ❗\"))\n",
    "    \n",
    "    if validation_results['errors']:\n",
    "        display(Markdown(\"#### Errors:\"))\n",
    "        for error in validation_results['errors']:\n",
    "            display(Markdown(f\"- {error}\"))\n",
    "    \n",
    "    if validation_results['warnings']:\n",
    "        display(Markdown(\"#### Warnings:\"))\n",
    "        for warning in validation_results['warnings']:\n",
    "            display(Markdown(f\"- {warning}\"))\n",
    "    \n",
    "    if validation_results['deck_summaries']:\n",
    "        display(Markdown(\"#### Deck Summaries:\"))\n",
    "        for deck_name, summary in validation_results['deck_summaries'].items():\n",
    "            display(Markdown(f\"**{deck_name}**: {summary}\"))\n",
    "\n"
   ]
  },
  {
   "cell_type": "code",
   "execution_count": 4,
   "id": "b11e8aeb",
   "metadata": {},
   "outputs": [],
   "source": [
    "def display_coherence_analysis_enhanced(coherence_results, top_n=5):\n",
    "    \"\"\"Display enhanced coherence analysis results including creature stats\"\"\"\n",
    "    \n",
    "    # Sort decks by overall coherence score\n",
    "    sorted_decks = sorted(coherence_results.items(), \n",
    "                         key=lambda x: x[1]['overall_coherence'], \n",
    "                         reverse=True)\n",
    "    \n",
    "    display(Markdown(\"# Enhanced Deck Theme Coherence Analysis\"))\n",
    "    \n",
    "    # Overall summary\n",
    "    avg_coherence = sum(r['overall_coherence'] for r in coherence_results.values()) / len(coherence_results)\n",
    "    display(Markdown(f\"**Average Coherence Score: {avg_coherence:.1f}/100**\"))\n",
    "    \n",
    "    # Top performing decks\n",
    "    display(Markdown(f\"## Top {top_n} Most Coherent Decks\"))\n",
    "    for i, (deck_name, analysis) in enumerate(sorted_decks[:top_n]):\n",
    "        display(Markdown(f\"### {i+1}. {deck_name}\"))\n",
    "        display(Markdown(f\"- **Overall Score: {analysis['overall_coherence']:.1f}/100**\"))\n",
    "        display(Markdown(f\"- **Expected Themes:** {', '.join(analysis['expected_themes'])}\"))\n",
    "        display(Markdown(f\"- **Theme Match Score:** {analysis['theme_score']:.1f}\"))\n",
    "        display(Markdown(f\"- **Color Coherence:** {analysis['color_coherence']:.1%}\"))\n",
    "        display(Markdown(f\"- **Mana Curve Score:** {analysis['mana_curve_score']:.1%}\"))\n",
    "        \n",
    "        # Creature stats\n",
    "        creature_stats = analysis['creature_stats']\n",
    "        display(Markdown(f\"- **Creature Count:** {creature_stats['creature_count']} ({creature_stats['creature_count']/analysis['card_count']:.1%} of deck)\"))\n",
    "        if creature_stats['creature_count'] > 0:\n",
    "            display(Markdown(f\"- **Avg Power/Toughness:** {creature_stats['avg_power']:.1f}/{creature_stats['avg_toughness']:.1f}\"))\n",
    "            display(Markdown(f\"- **Creature Mix:** Small: {creature_stats['creature_categories']['small']}, Medium: {creature_stats['creature_categories']['medium']}, Large: {creature_stats['creature_categories']['large']}\"))\n",
    "            display(Markdown(f\"- **Creature Theme Alignment:** {creature_stats['theme_alignment_score']:.1f}\"))\n",
    "        \n",
    "        if analysis['color_issues']:\n",
    "            display(Markdown(f\"- **Color Issues:** {len(analysis['color_issues'])} cards\"))\n",
    "    \n",
    "    # Bottom performing decks\n",
    "    display(Markdown(f\"## Bottom {top_n} Least Coherent Decks\"))\n",
    "    for i, (deck_name, analysis) in enumerate(sorted_decks[-top_n:]):\n",
    "        display(Markdown(f\"### {len(sorted_decks)-top_n+i+1}. {deck_name}\"))\n",
    "        display(Markdown(f\"- **Overall Score: {analysis['overall_coherence']:.1f}/100**\"))\n",
    "        display(Markdown(f\"- **Expected Themes:** {', '.join(analysis['expected_themes'])}\"))\n",
    "        display(Markdown(f\"- **Theme Match Score:** {analysis['theme_score']:.1f}\"))\n",
    "        display(Markdown(f\"- **Color Coherence:** {analysis['color_coherence']:.1%}\"))\n",
    "        \n",
    "        # Creature stats\n",
    "        creature_stats = analysis['creature_stats']\n",
    "        if creature_stats['creature_count'] > 0:\n",
    "            display(Markdown(f\"- **Avg Power/Toughness:** {creature_stats['avg_power']:.1f}/{creature_stats['avg_toughness']:.1f}\"))\n",
    "            display(Markdown(f\"- **Creature Theme Alignment:** {creature_stats['theme_alignment_score']:.1f}\"))\n",
    "        \n",
    "        if analysis['color_issues']:\n",
    "            display(Markdown(f\"- **Color Issues:** {analysis['color_issues'][:3]}\"))\n",
    "\n",
    "def analyze_specific_deck_enhanced(deck_name, cube_df, oracle_df, coherence_results):\n",
    "    \"\"\"Enhanced deck analysis including creature statistics\"\"\"\n",
    "    \n",
    "    if deck_name not in coherence_results:\n",
    "        print(f\"Deck '{deck_name}' not found!\")\n",
    "        return\n",
    "    \n",
    "    deck_data = coherence_results[deck_name]\n",
    "    deck_cards = cube_df[cube_df['Tags'] == deck_name]\n",
    "    creature_stats = deck_data['creature_stats']\n",
    "    \n",
    "    display(Markdown(f\"# Enhanced Analysis: {deck_name}\"))\n",
    "    display(Markdown(f\"**Overall Coherence Score: {deck_data['overall_coherence']:.1f}/100**\"))\n",
    "    \n",
    "    # Theme analysis\n",
    "    display(Markdown(\"## Theme Analysis\"))\n",
    "    display(Markdown(f\"**Expected Themes:** {', '.join(deck_data['expected_themes'])}\"))\n",
    "    display(Markdown(f\"**Theme Match Score:** {deck_data['theme_score']:.1f}\"))\n",
    "    \n",
    "    # Creature Statistics\n",
    "    display(Markdown(\"## Creature Statistics\"))\n",
    "    display(Markdown(f\"**Total Creatures:** {creature_stats['creature_count']} ({creature_stats['creature_count']/deck_data['card_count']:.1%} of deck)\"))\n",
    "    \n",
    "    if creature_stats['creature_count'] > 0:\n",
    "        display(Markdown(f\"**Average Power/Toughness:** {creature_stats['avg_power']:.1f}/{creature_stats['avg_toughness']:.1f}\"))\n",
    "        display(Markdown(f\"**Total Power/Toughness:** {creature_stats['total_power']:.0f}/{creature_stats['total_toughness']:.0f}\"))\n",
    "        display(Markdown(f\"**Creature Theme Alignment Score:** {creature_stats['theme_alignment_score']:.1f}\"))\n",
    "        \n",
    "        # Creature categories\n",
    "        display(Markdown(\"### Creature Categories:\"))\n",
    "        display(Markdown(f\"- **Small (≤2 power):** {creature_stats['creature_categories']['small']} creatures\"))\n",
    "        display(Markdown(f\"- **Medium (3-4 power):** {creature_stats['creature_categories']['medium']} creatures\"))\n",
    "        display(Markdown(f\"- **Large (≥5 power):** {creature_stats['creature_categories']['large']} creatures\"))\n",
    "        display(Markdown(f\"- **Evasive abilities:** {creature_stats['creature_categories']['evasive']} creatures\"))\n",
    "        display(Markdown(f\"- **Utility abilities:** {creature_stats['creature_categories']['utility']} creatures\"))\n",
    "        \n",
    "        # Power distribution\n",
    "        if creature_stats['power_distribution']:\n",
    "            power_dist = \", \".join([f\"{k}: {v}\" for k, v in sorted(creature_stats['power_distribution'].items())])\n",
    "            display(Markdown(f\"**Power Distribution:** {power_dist}\"))\n",
    "        \n",
    "        # Show individual creatures\n",
    "        if creature_stats['creature_details']:\n",
    "            display(Markdown(\"### Creature Details:\"))\n",
    "            for creature in creature_stats['creature_details'][:10]:  # Show first 10\n",
    "                categories_str = \", \".join(creature['categories']) if creature['categories'] else \"basic\"\n",
    "                display(Markdown(f\"- **{creature['name']}** ({creature['power']:.0f}/{creature['toughness']:.0f}) - {categories_str}\"))\n",
    "    \n",
    "    # Color coherence\n",
    "    display(Markdown(\"## Color Analysis\"))\n",
    "    display(Markdown(f\"**Deck Colors:** {deck_data['deck_colors']}\"))\n",
    "    display(Markdown(f\"**Color Coherence:** {deck_data['color_coherence']:.1%}\"))\n",
    "    \n",
    "    if deck_data['color_issues']:\n",
    "        display(Markdown(\"### Color Issues:\"))\n",
    "        for issue in deck_data['color_issues'][:5]:\n",
    "            display(Markdown(f\"- {issue}\"))\n",
    "    \n",
    "    # Mana curve\n",
    "    display(Markdown(\"## Mana Curve Analysis\"))\n",
    "    display(Markdown(f\"**Mana Curve Score:** {deck_data['mana_curve_score']:.1%}\"))\n",
    "    \n",
    "    curve_display = []\n",
    "    for cmc in sorted(deck_data['mana_curve'].keys()):\n",
    "        count = deck_data['mana_curve'][cmc]\n",
    "        curve_display.append(f\"CMC {cmc}: {count} cards\")\n",
    "    \n",
    "    display(Markdown(\"**Curve Distribution:**\"))\n",
    "    for item in curve_display:\n",
    "        display(Markdown(f\"- {item}\"))\n",
    "    \n",
    "    # Enhanced recommendations including creature analysis\n",
    "    display(Markdown(\"## Improvement Recommendations\"))\n",
    "    \n",
    "    recommendations = []\n",
    "    \n",
    "    if deck_data['theme_score'] < 2.0:\n",
    "        recommendations.append(\"🎯 **Theme Focus**: Consider adding more cards that directly support the deck's themes\")\n",
    "    \n",
    "    if deck_data['color_coherence'] < 0.9:\n",
    "        recommendations.append(\"🎨 **Color Issues**: Some cards don't fit the color identity - consider replacements\")\n",
    "    \n",
    "    if deck_data['mana_curve_score'] < 0.8:\n",
    "        recommendations.append(\"⚡ **Mana Curve**: Consider adjusting the mana curve for better balance\")\n",
    "    \n",
    "    # Creature-specific recommendations\n",
    "    if creature_stats['creature_count'] > 0:\n",
    "        if creature_stats['theme_alignment_score'] < 1.0:\n",
    "            recommendations.append(\"👹 **Creature Synergy**: Creature stats don't align well with deck themes\")\n",
    "        \n",
    "        expected_themes = deck_data['expected_themes']\n",
    "        if 'Aggro' in expected_themes and creature_stats['creature_categories']['large'] > creature_stats['creature_categories']['small']:\n",
    "            recommendations.append(\"⚡ **Aggro Focus**: Consider more small, efficient creatures for aggro strategy\")\n",
    "        \n",
    "        if 'Big Creatures' in expected_themes and creature_stats['avg_power'] < 4:\n",
    "            recommendations.append(\"💪 **Big Creatures**: Average creature power is low for a big creatures theme\")\n",
    "        \n",
    "        if 'Flying' in expected_themes and creature_stats['creature_categories']['evasive'] < creature_stats['creature_count'] * 0.5:\n",
    "            recommendations.append(\"🕊️ **Flying Theme**: Consider more creatures with flying or evasion\")\n",
    "    \n",
    "    # Check for missing card types\n",
    "    creature_count = creature_stats['creature_count']\n",
    "    spell_count = len(deck_cards) - creature_count\n",
    "    \n",
    "    if creature_count < 4:\n",
    "        recommendations.append(\"👹 **Creatures**: Consider adding more creatures for board presence\")\n",
    "    elif creature_count > 10:\n",
    "        recommendations.append(\"📜 **Spells**: Consider adding more non-creature spells for versatility\")\n",
    "    \n",
    "    if not recommendations:\n",
    "        recommendations.append(\"✅ **Excellent Balance**: Deck shows great coherence across all metrics including creature synergy!\")\n",
    "    \n",
    "    for rec in recommendations:\n",
    "        display(Markdown(f\"- {rec}\"))"
   ]
  },
  {
   "cell_type": "code",
   "execution_count": 5,
   "id": "0c9162d7",
   "metadata": {},
   "outputs": [],
   "source": [
    "# cards = get_available_cards_for_deck(\"Green Big Creatures\", cube_df, oracle_df, \"G\")\n",
    "# [m.get('name') for m in cards]"
   ]
  },
  {
   "cell_type": "code",
   "execution_count": 6,
   "id": "ec8fb6d6",
   "metadata": {},
   "outputs": [],
   "source": [
    "from itertools import combinations\n",
    "import re\n",
    "\n",
    "def display_swap_recommendations(deck_name, swap_results, cube_df, oracle_df):\n",
    "    \"\"\"\n",
    "    Display swap recommendations in a formatted way.\n",
    "    \"\"\"\n",
    "    if not swap_results:\n",
    "        display(Markdown(f\"# No beneficial swaps found for {deck_name}\"))\n",
    "        return\n",
    "    \n",
    "    improvement = swap_results.get('improvement', 0)\n",
    "    num_swaps = len(swap_results.get('remove', []))\n",
    "    \n",
    "    display(Markdown(f\"# Optimal Swap Recommendations for {deck_name}\"))\n",
    "    display(Markdown(f\"**Improvement: +{improvement:.1f} coherence points**\"))\n",
    "    display(Markdown(f\"**Number of swaps: {num_swaps}**\"))\n",
    "    \n",
    "    # Display cards to remove\n",
    "    display(Markdown(\"## Cards to Remove:\"))\n",
    "    for removal in swap_results['remove']:\n",
    "        card_name = removal['name']\n",
    "        reasons = \", \".join(removal['reasons']) if removal['reasons'] else \"Low synergy\"\n",
    "        theme_matches = \", \".join(removal['theme_matches']) if removal['theme_matches'] else \"None\"\n",
    "        \n",
    "        display(Markdown(f\"### {card_name}\"))\n",
    "        display(Markdown(f\"- **Score:** {removal['score']}/10\"))\n",
    "        display(Markdown(f\"- **Theme Score:** {removal['theme_score']}/10\"))\n",
    "        display(Markdown(f\"- **Theme Matches:** {theme_matches}\"))\n",
    "        display(Markdown(f\"- **Removal Reasons:** {reasons}\"))\n",
    "    \n",
    "    # Display cards to add\n",
    "    display(Markdown(\"## Cards to Add:\"))\n",
    "    for addition in swap_results['add']:\n",
    "        card_name = addition['name']\n",
    "        reasons = \", \".join(addition['reasons']) if addition['reasons'] else \"Good synergy\"\n",
    "        theme_matches = \", \".join(addition['theme_matches']) if addition['theme_matches'] else \"None\"\n",
    "        \n",
    "        display(Markdown(f\"### {card_name}\"))\n",
    "        display(Markdown(f\"- **Score:** {addition['score']}/10\"))\n",
    "        display(Markdown(f\"- **Theme Score:** {addition['theme_score']}/10\"))\n",
    "        display(Markdown(f\"- **Theme Matches:** {theme_matches}\"))\n",
    "        display(Markdown(f\"- **Addition Reasons:** {reasons}\"))\n",
    "\n",
    "def optimize_deck_with_swaps(deck_name, cube_df, oracle_df, max_swaps=3):\n",
    "    \"\"\"\n",
    "    Find the optimal swaps to improve deck coherence.\n",
    "    \"\"\"\n",
    "    current_analysis = analyze_deck_theme_coherence_enhanced(cube_df, oracle_df)[deck_name]\n",
    "    current_score = current_analysis['overall_coherence']\n",
    "    deck_cards = cube_df[cube_df['Tags'].str.contains(deck_name, na=False)]['Name'].tolist()\n",
    "    \n",
    "    # Get available cards (not in any deck)\n",
    "    used_cards = set()\n",
    "    for deck in cube_df['Tags'].dropna().unique():\n",
    "        deck_cards_for_this = cube_df[cube_df['Tags'].str.contains(deck, na=False)]['Name'].tolist()\n",
    "        used_cards.update(deck_cards_for_this)\n",
    "    \n",
    "    available_cards = oracle_df[~oracle_df['name'].isin(used_cards)]['name'].tolist()\n",
    "    \n",
    "    best_swap = None\n",
    "    best_improvement = 0\n",
    "    \n",
    "    # Try combinations of 1 to max_swaps cards\n",
    "    for num_swaps in range(1, min(max_swaps + 1, len(deck_cards) + 1)):\n",
    "        for cards_to_remove in combinations(deck_cards, num_swaps):\n",
    "            # Analyze what makes these cards weak\n",
    "            removal_analysis = []\n",
    "            for card in cards_to_remove:\n",
    "                card_data = oracle_df[oracle_df['name'] == card].iloc[0]\n",
    "                analysis = analyze_single_card_for_deck(card_data, deck_name, oracle_df)\n",
    "                removal_analysis.append({\n",
    "                    'name': card,\n",
    "                    'score': analysis['overall_score'],\n",
    "                    'theme_score': analysis['theme_score'],\n",
    "                    'theme_matches': analysis['theme_matches'],\n",
    "                    'reasons': analysis['removal_reasons']\n",
    "                })\n",
    "            \n",
    "            # Try combinations of available cards to add\n",
    "            for cards_to_add in combinations(available_cards, num_swaps):\n",
    "                # Create temporary modified cube\n",
    "                temp_cube = cube_df.copy()\n",
    "                \n",
    "                # Remove cards\n",
    "                for card in cards_to_remove:\n",
    "                    temp_cube = temp_cube[temp_cube['Name'] != card]\n",
    "                \n",
    "                # Add cards\n",
    "                for card in cards_to_add:\n",
    "                    card_data = oracle_df[oracle_df['name'] == card]\n",
    "                    if not card_data.empty:\n",
    "                        new_row = card_data.iloc[0].copy()\n",
    "                        # Map oracle columns to cube columns\n",
    "                        cube_row = {\n",
    "                            'Name': new_row['name'],\n",
    "                            'Set': 'Mixed',\n",
    "                            'Collector Number': None,\n",
    "                            'Rarity': new_row.get('rarity', 'common'),\n",
    "                            'Color Identity': new_row.get('color_identity', ''),\n",
    "                            'Type': new_row.get('type_line', ''),\n",
    "                            'Mana Cost': new_row.get('mana_cost', ''),\n",
    "                            'CMC': new_row.get('mana_value', 0),\n",
    "                            'Power': new_row.get('power', None),\n",
    "                            'Toughness': new_row.get('toughness', None),\n",
    "                            'Tags': deck_name\n",
    "                        }\n",
    "                        temp_cube = pd.concat([temp_cube, pd.DataFrame([cube_row])], ignore_index=True)\n",
    "                \n",
    "                # Calculate new score\n",
    "                new_analysis = analyze_deck_theme_coherence_enhanced(temp_cube, oracle_df)\n",
    "                if deck_name in new_analysis:\n",
    "                    new_score = new_analysis[deck_name]['overall_coherence']\n",
    "                    improvement = new_score - current_score\n",
    "                    \n",
    "                    if improvement > best_improvement:\n",
    "                        # Analyze added cards\n",
    "                        addition_analysis = []\n",
    "                        for card in cards_to_add:\n",
    "                            card_data = oracle_df[oracle_df['name'] == card].iloc[0]\n",
    "                            analysis = analyze_single_card_for_deck(card_data, deck_name, oracle_df)\n",
    "                            addition_analysis.append({\n",
    "                                'name': card,\n",
    "                                'score': analysis['overall_score'],\n",
    "                                'theme_score': analysis['theme_score'],\n",
    "                                'theme_matches': analysis['theme_matches'],\n",
    "                                'reasons': analysis['addition_reasons']\n",
    "                            })\n",
    "                        \n",
    "                        best_improvement = improvement\n",
    "                        best_swap = {\n",
    "                            'remove': removal_analysis,\n",
    "                            'add': addition_analysis,\n",
    "                            'improvement': improvement,\n",
    "                            'new_score': new_score\n",
    "                        }\n",
    "    \n",
    "    return best_swap\n",
    "\n",
    "def analyze_single_card_for_deck(card_data, deck_name, oracle_df):\n",
    "    \"\"\"\n",
    "    Analyze a single card's fit for a specific deck theme.\n",
    "    \"\"\"\n",
    "    # Initialize scores\n",
    "    theme_score = 0\n",
    "    overall_score = 0\n",
    "    theme_matches = []\n",
    "    removal_reasons = []\n",
    "    addition_reasons = []\n",
    "    \n",
    "    # Get card properties\n",
    "    card_name = card_data['name']\n",
    "    card_text = str(card_data.get('text', '')).lower()\n",
    "    type_line = str(card_data.get('type_line', '')).lower()\n",
    "    mana_cost = str(card_data.get('mana_cost', ''))\n",
    "    \n",
    "    # Extract mana value\n",
    "    try:\n",
    "        mana_value = float(card_data.get('mana_value', 0)) if pd.notna(card_data.get('mana_value')) else 0\n",
    "    except (ValueError, TypeError):\n",
    "        mana_value = 0\n",
    "    \n",
    "    # Get deck theme keywords\n",
    "    deck_keywords = theme_keywords.get(deck_name, [])\n",
    "    deck_colors = [color for color in ['W', 'U', 'B', 'R', 'G'] if any(color.lower() in keyword.lower() for keyword in deck_keywords)]\n",
    "    \n",
    "    # Theme keyword matching\n",
    "    keyword_matches = 0\n",
    "    for keyword in deck_keywords:\n",
    "        keyword_lower = keyword.lower()\n",
    "        if (keyword_lower in card_text or \n",
    "            keyword_lower in type_line or \n",
    "            keyword_lower in card_name.lower()):\n",
    "            keyword_matches += 1\n",
    "            theme_matches.append(f\"{keyword}({keyword_matches})\")\n",
    "    \n",
    "    theme_score = min(keyword_matches * 2, 10)\n",
    "    \n",
    "    # Color identity matching\n",
    "    color_bonus = 0\n",
    "    if deck_colors:\n",
    "        card_colors = set(re.findall(r'[WUBRG]', mana_cost))\n",
    "        if card_colors.issubset(set(deck_colors)):\n",
    "            color_bonus = 2\n",
    "            addition_reasons.append(\"Correct color identity\")\n",
    "        elif card_colors & set(deck_colors):\n",
    "            color_bonus = 1\n",
    "            addition_reasons.append(\"Partial color match\")\n",
    "        else:\n",
    "            removal_reasons.append(\"Wrong colors\")\n",
    "    \n",
    "    # Specific deck analysis\n",
    "    if 'aggressive' in deck_name.lower() or 'aggro' in deck_name.lower():\n",
    "        if mana_value <= 3:\n",
    "            overall_score += 2\n",
    "            addition_reasons.append(\"Low mana cost for aggro\")\n",
    "        elif mana_value >= 6:\n",
    "            overall_score -= 2\n",
    "            removal_reasons.append(\"Too expensive for aggro\")\n",
    "            \n",
    "        if 'haste' in card_text:\n",
    "            overall_score += 2\n",
    "            addition_reasons.append(\"Has haste\")\n",
    "    \n",
    "    elif 'control' in deck_name.lower():\n",
    "        if mana_value >= 4:\n",
    "            overall_score += 1\n",
    "            addition_reasons.append(\"Good late-game card\")\n",
    "        if any(word in card_text for word in ['draw', 'counter', 'destroy', 'exile']):\n",
    "            overall_score += 2\n",
    "            addition_reasons.append(\"Control effect\")\n",
    "    \n",
    "    elif 'big' in deck_name.lower() and 'creatures' in deck_name.lower():\n",
    "        try:\n",
    "            power = float(card_data.get('power', 0)) if pd.notna(card_data.get('power')) else 0\n",
    "            toughness = float(card_data.get('toughness', 0)) if pd.notna(card_data.get('toughness')) else 0\n",
    "            \n",
    "            if 'creature' in type_line:\n",
    "                if power >= 4 or toughness >= 4:\n",
    "                    overall_score += 3\n",
    "                    addition_reasons.append(\"Big creature stats\")\n",
    "                elif power <= 2 and toughness <= 2:\n",
    "                    overall_score -= 2\n",
    "                    removal_reasons.append(\"Small creature stats\")\n",
    "        except (ValueError, TypeError):\n",
    "            pass\n",
    "    \n",
    "    # Calculate final scores\n",
    "    overall_score = max(0, min(theme_score + color_bonus + overall_score, 10))\n",
    "    \n",
    "    return {\n",
    "        'overall_score': overall_score,\n",
    "        'theme_score': theme_score,\n",
    "        'theme_matches': theme_matches,\n",
    "        'removal_reasons': removal_reasons,\n",
    "        'addition_reasons': addition_reasons\n",
    "    }\n",
    "\n",
    "def quick_deck_optimization(deck_name, cube_df, oracle_df, apply_changes=False):\n",
    "    \"\"\"\n",
    "    Quick optimization function with clear output.\n",
    "    \"\"\"\n",
    "    print(f\"Current coherence: {analyze_deck_theme_coherence_enhanced(cube_df, oracle_df)[deck_name]['overall_coherence']:.1f}\")\n",
    "    \n",
    "    # Find optimal swaps\n",
    "    swap_results = optimize_deck_with_swaps(deck_name, cube_df, oracle_df)\n",
    "    \n",
    "    # Display recommendations\n",
    "    display_swap_recommendations(deck_name, swap_results, cube_df, oracle_df)\n",
    "    \n",
    "    # Optionally apply changes\n",
    "    if apply_changes and swap_results:\n",
    "        modified_cube = cube_df.copy()\n",
    "        \n",
    "        # Remove cards\n",
    "        for removal in swap_results['remove']:\n",
    "            modified_cube = modified_cube[modified_cube['Name'] != removal['name']]\n",
    "        \n",
    "        # Add cards\n",
    "        for addition in swap_results['add']:\n",
    "            card_data = oracle_df[oracle_df['name'] == addition['name']]\n",
    "            if not card_data.empty:\n",
    "                new_row = card_data.iloc[0].copy()\n",
    "                # Map oracle columns to cube columns\n",
    "                cube_row = {\n",
    "                    'Name': new_row['name'],\n",
    "                    'Set': 'Mixed',\n",
    "                    'Collector Number': None,\n",
    "                    'Rarity': new_row.get('rarity', 'common'),\n",
    "                    'Color Identity': new_row.get('color_identity', ''),\n",
    "                    'Type': new_row.get('type_line', ''),\n",
    "                    'Mana Cost': new_row.get('mana_cost', ''),\n",
    "                    'CMC': new_row.get('mana_value', 0),\n",
    "                    'Power': new_row.get('power', None),\n",
    "                    'Toughness': new_row.get('toughness', None),\n",
    "                    'Tags': deck_name\n",
    "                }\n",
    "                modified_cube = pd.concat([modified_cube, pd.DataFrame([cube_row])], ignore_index=True)\n",
    "        \n",
    "        print(f\"New coherence: {analyze_deck_theme_coherence_enhanced(modified_cube, oracle_df)[deck_name]['overall_coherence']:.1f}\")\n",
    "        return modified_cube, swap_results\n",
    "    \n",
    "    return cube_df, swap_results"
   ]
  },
  {
   "cell_type": "code",
   "execution_count": 7,
   "id": "a8b1ab72",
   "metadata": {},
   "outputs": [],
   "source": [
    "def display_swap_recommendations(deck_name, swap_results, cube_df, oracle_df):\n",
    "    \"\"\"Display the swap recommendations in a clear, readable format\"\"\"\n",
    "    \n",
    "    if not swap_results:\n",
    "        display(Markdown(f\"# No Beneficial Swaps Found for {deck_name}\"))\n",
    "        display(Markdown(\"The current deck configuration appears to be optimal, or no suitable replacement cards were found.\"))\n",
    "        return\n",
    "    \n",
    "    display(Markdown(f\"# Optimal Swap Recommendations for {deck_name}\"))\n",
    "    \n",
    "    improvement = swap_results['improvement']\n",
    "    num_swaps = swap_results['num_swaps']\n",
    "    \n",
    "    display(Markdown(f\"**Improvement: +{improvement:.1f} coherence points**\"))\n",
    "    display(Markdown(f\"**Number of swaps: {num_swaps}**\"))\n",
    "    \n",
    "    # Show cards to remove\n",
    "    display(Markdown(\"## Cards to Remove:\"))\n",
    "    for i, removal in enumerate(swap_results['remove']):\n",
    "        card_name = removal['name']\n",
    "        reasons = \", \".join(removal['reasons']) if removal['reasons'] else \"Low synergy\"\n",
    "        theme_matches = \", \".join(removal['theme_matches']) if removal['theme_matches'] else \"None\"\n",
    "        \n",
    "        display(Markdown(f\"### {i+1}. **{card_name}**\"))\n",
    "        display(Markdown(f\"- **Removal Score:** {removal['score']:.1f}/10\"))\n",
    "        display(Markdown(f\"- **Theme Matches:** {theme_matches}\"))\n",
    "        display(Markdown(f\"- **Reasons:** {reasons}\"))\n",
    "    \n",
    "    # Show cards to add\n",
    "    display(Markdown(\"## Cards to Add:\"))\n",
    "    for i, addition in enumerate(swap_results['add']):\n",
    "        card_name = addition['name']\n",
    "        reasons = \", \".join(addition['reasons']) if addition['reasons'] else \"Good synergy\"\n",
    "        theme_matches = \", \".join(addition['theme_matches']) if addition['theme_matches'] else \"None\"\n",
    "        card_data = addition['card_data']\n",
    "        \n",
    "        # Get card details\n",
    "        card_type = card_data.get('Type', 'Unknown')\n",
    "        cmc = card_data.get('CMC', 'Unknown')\n",
    "        power = card_data.get('Power', '')\n",
    "        toughness = card_data.get('Toughness', '')\n",
    "        \n",
    "        power_toughness = \"\"\n",
    "        if not pd.isna(power) and not pd.isna(toughness):\n",
    "            power_toughness = f\" ({power}/{toughness})\"\n",
    "        \n",
    "        display(Markdown(f\"### {i+1}. **{card_name}**{power_toughness}\"))\n",
    "        display(Markdown(f\"- **Type:** {card_type}\"))\n",
    "        display(Markdown(f\"- **CMC:** {cmc}\"))\n",
    "        display(Markdown(f\"- **Addition Score:** {addition['score']:.1f}\"))\n",
    "        display(Markdown(f\"- **Theme Matches:** {theme_matches}\"))\n",
    "        display(Markdown(f\"- **Reasons:** {reasons}\"))\n",
    "        \n",
    "        # Show oracle text (truncated)\n",
    "        oracle_text = str(card_data.get('Oracle Text', '')).strip()\n",
    "        if oracle_text and oracle_text != 'nan':\n",
    "            truncated_text = oracle_text[:150] + \"...\" if len(oracle_text) > 150 else oracle_text\n",
    "            display(Markdown(f\"- **Oracle Text:** {truncated_text}\"))\n",
    "    \n",
    "    # Show summary\n",
    "    display(Markdown(\"## Summary\"))\n",
    "    display(Markdown(f\"This {num_swaps}-card swap will improve the deck's coherence score by **{improvement:.1f} points**.\"))\n",
    "    display(Markdown(\"The recommended changes focus on:\"))\n",
    "    \n",
    "    # Analyze the themes of added cards\n",
    "    added_themes = set()\n",
    "    for addition in swap_results['add']:\n",
    "        added_themes.update(addition['theme_matches'])\n",
    "    \n",
    "    if added_themes:\n",
    "        display(Markdown(f\"- Strengthening synergies: {', '.join(list(added_themes)[:5])}\"))\n",
    "    \n",
    "    # Count creature additions/removals\n",
    "    creatures_removed = sum(1 for r in swap_results['remove'] \n",
    "                           if 'creature' in str(cube_df[cube_df['Name'] == r['name']]['Type'].iloc[0]).lower())\n",
    "    creatures_added = sum(1 for a in swap_results['add'] \n",
    "                         if 'creature' in str(a['card_data'].get('Type', '')).lower())\n",
    "    \n",
    "    if creatures_added != creatures_removed:\n",
    "        diff = creatures_added - creatures_removed\n",
    "        if diff > 0:\n",
    "            display(Markdown(f\"- Adding {diff} more creature(s) for better board presence\"))\n",
    "        else:\n",
    "            display(Markdown(f\"- Removing {abs(diff)} creature(s) for more spell-based strategy\"))\n",
    "\n",
    "def apply_swap_recommendations(deck_name, swap_results, cube_df):\n",
    "    \"\"\"Apply the recommended swaps to the cube dataframe\"\"\"\n",
    "    \n",
    "    if not swap_results:\n",
    "        print(\"No swaps to apply!\")\n",
    "        return cube_df\n",
    "    \n",
    "    modified_cube = cube_df.copy()\n",
    "    \n",
    "    print(f\"Applying {swap_results['num_swaps']}-card swap to {deck_name}...\")\n",
    "    \n",
    "    # Remove cards from deck\n",
    "    for removal in swap_results['remove']:\n",
    "        card_name = removal['name']\n",
    "        mask = (modified_cube['Name'] == card_name) & (modified_cube['Tags'] == deck_name)\n",
    "        if mask.any():\n",
    "            modified_cube.loc[mask, 'Tags'] = 'REMOVED'\n",
    "            print(f\"  Removed: {card_name}\")\n",
    "    \n",
    "    # Add cards to deck\n",
    "    for addition in swap_results['add']:\n",
    "        card_name = addition['name']\n",
    "        card_data = addition['card_data']\n",
    "        \n",
    "        # Check if card already exists in cube\n",
    "        existing_card = modified_cube[modified_cube['Name'] == card_name]\n",
    "        if not existing_card.empty:\n",
    "            # Update existing card's assignment\n",
    "            modified_cube.loc[modified_cube['Name'] == card_name, 'Tags'] = deck_name\n",
    "            print(f\"  Reassigned: {card_name}\")\n",
    "        else:\n",
    "            # Add new card to cube\n",
    "            new_row = {\n",
    "                'Name': card_name,\n",
    "                'Tags': deck_name,\n",
    "                'Type': card_data.get('Type', ''),\n",
    "                'CMC': card_data.get('CMC', 0)\n",
    "            }\n",
    "            new_df = pd.DataFrame([new_row])\n",
    "            modified_cube = pd.concat([modified_cube, new_df], ignore_index=True)\n",
    "            print(f\"  Added: {card_name}\")\n",
    "    \n",
    "    print(f\"Swap complete! Expected improvement: +{swap_results['improvement']:.1f} coherence points\")\n",
    "    modified_cube.drop(modified_cube[modified_cube.Tags == 'REMOVED'].index, inplace=True)  # Clean up removed cards\n",
    "\n",
    "    return modified_cube\n",
    "\n",
    "def quick_deck_optimization(deck_name, cube_df, oracle_df, apply_changes=False):\n",
    "    \"\"\"Quick function to optimize a deck and optionally apply changes\"\"\"\n",
    "    \n",
    "    print(f\"🎯 Optimizing {deck_name}...\")\n",
    "    \n",
    "    # Get swap recommendations\n",
    "    swap_results = optimize_deck_with_swaps(deck_name, cube_df, oracle_df)\n",
    "    \n",
    "    # Display recommendations\n",
    "    display_swap_recommendations(deck_name, swap_results, cube_df, oracle_df)\n",
    "    \n",
    "    # Optionally apply changes\n",
    "    if apply_changes and swap_results:\n",
    "        modified_cube = apply_swap_recommendations(deck_name, swap_results, cube_df)\n",
    "        return modified_cube, swap_results\n",
    "    \n",
    "    return cube_df, swap_results"
   ]
  },
  {
   "cell_type": "code",
   "execution_count": 8,
   "id": "9af8a21c",
   "metadata": {},
   "outputs": [],
   "source": [
    "def show_available_cards_for_deck(deck_name, cube_df, oracle_df, top_n=20):\n",
    "    \"\"\"Show the top available cards that could be added to a deck\"\"\"\n",
    "    \n",
    "    # Get deck colors and themes\n",
    "    deck_colors = get_deck_colour(deck_name)\n",
    "    expected_themes = extract_theme_from_deck_name(deck_name)\n",
    "    \n",
    "    print(f\"Top available cards for {deck_name} (Colors: {deck_colors}, Themes: {expected_themes})\")\n",
    "    print(\"=\"*80)\n",
    "    \n",
    "    # Get available cards\n",
    "    available_cards = get_available_cards_for_deck(deck_name, cube_df, oracle_df, deck_colors)\n",
    "    \n",
    "    if not available_cards:\n",
    "        print(\"No available cards found!\")\n",
    "        return\n",
    "    \n",
    "    # Score available cards\n",
    "    addition_candidates = score_cards_for_addition(available_cards, expected_themes, deck_colors, oracle_df)\n",
    "    \n",
    "    # Show top candidates\n",
    "    display(Markdown(f\"# Top {top_n} Available Cards for {deck_name}\"))\n",
    "    \n",
    "    for i, card in enumerate(addition_candidates[:top_n]):\n",
    "        card_name = card['name']\n",
    "        card_data = card['card_data']\n",
    "        score = card['score']\n",
    "        reasons = \", \".join(card['reasons']) if card['reasons'] else \"Basic utility\"\n",
    "        theme_matches = \", \".join(card['theme_matches']) if card['theme_matches'] else \"None\"\n",
    "        \n",
    "        # Get card details\n",
    "        card_type = card_data.get('Type', 'Unknown')\n",
    "        cmc = card_data.get('CMC', 'Unknown')\n",
    "        power = card_data.get('Power', '')\n",
    "        toughness = card_data.get('Toughness', '')\n",
    "        \n",
    "        power_toughness = \"\"\n",
    "        if not pd.isna(power) and not pd.isna(toughness):\n",
    "            power_toughness = f\" ({power}/{toughness})\"\n",
    "        \n",
    "        display(Markdown(f\"## {i+1}. **{card_name}**{power_toughness} (Score: {score:.1f})\"))\n",
    "        display(Markdown(f\"- **Type:** {card_type} | **CMC:** {cmc}\"))\n",
    "        display(Markdown(f\"- **Theme Matches:** {theme_matches}\"))\n",
    "        display(Markdown(f\"- **Reasons:** {reasons}\"))\n",
    "        \n",
    "        # Show oracle text (truncated)\n",
    "        oracle_text = str(card_data.get('Oracle Text', '')).strip()\n",
    "        if oracle_text and oracle_text != 'nan':\n",
    "            truncated_text = oracle_text[:200] + \"...\" if len(oracle_text) > 200 else oracle_text\n",
    "            display(Markdown(f\"- **Oracle Text:** *{truncated_text}*\"))\n",
    "        \n",
    "        display(Markdown(\"---\"))\n",
    "\n",
    "def show_removal_candidates_for_deck(deck_name, cube_df, oracle_df, top_n=10):\n",
    "    \"\"\"Show the cards most suitable for removal from a deck\"\"\"\n",
    "    \n",
    "    # Get current deck\n",
    "    current_deck = cube_df[cube_df['Tags'] == deck_name]\n",
    "    if current_deck.empty:\n",
    "        print(f\"Deck '{deck_name}' not found!\")\n",
    "        return\n",
    "    \n",
    "    # Get themes\n",
    "    expected_themes = extract_theme_from_deck_name(deck_name)\n",
    "    \n",
    "    # Score cards for removal\n",
    "    removal_candidates = score_cards_for_removal(current_deck, expected_themes, oracle_df)\n",
    "    \n",
    "    display(Markdown(f\"# Top {top_n} Removal Candidates from {deck_name}\"))\n",
    "    \n",
    "    for i, card in enumerate(removal_candidates[:top_n]):\n",
    "        card_name = card['name']\n",
    "        score = card['score']\n",
    "        reasons = \", \".join(card['reasons']) if card['reasons'] else \"Low synergy\"\n",
    "        theme_matches = \", \".join(card['theme_matches']) if card['theme_matches'] else \"None\"\n",
    "        \n",
    "        # Get card details from cube\n",
    "        card_row = current_deck[current_deck['Name'] == card_name].iloc[0]\n",
    "        card_type = card_row.get('Type', 'Unknown')\n",
    "        cmc = card_row.get('CMC', 'Unknown')\n",
    "        \n",
    "        display(Markdown(f\"## {i+1}. **{card_name}** (Removal Score: {score:.1f}/10)\"))\n",
    "        display(Markdown(f\"- **Type:** {card_type} | **CMC:** {cmc}\"))\n",
    "        display(Markdown(f\"- **Theme Matches:** {theme_matches}\"))\n",
    "        display(Markdown(f\"- **Reasons for Removal:** {reasons}\"))\n",
    "        display(Markdown(\"---\"))"
   ]
  },
  {
   "cell_type": "code",
   "execution_count": 9,
   "id": "2a0ae68f",
   "metadata": {},
   "outputs": [],
   "source": [
    "# validation_results = validate_jumpstart_cube(cube_df, oracle_df)\n",
    "# display_validate_results(validation_results)"
   ]
  },
  {
   "cell_type": "code",
   "execution_count": 10,
   "id": "83d985ef",
   "metadata": {},
   "outputs": [],
   "source": [
    "# coherence_results = analyze_deck_theme_coherence_enhanced(cube_df, oracle_df)\n",
    "# display_coherence_analysis_enhanced(coherence_results)"
   ]
  },
  {
   "cell_type": "code",
   "execution_count": null,
   "id": "266898f6",
   "metadata": {},
   "outputs": [
    {
     "ename": "NameError",
     "evalue": "name 'analyze_deck_theme_coherence_enhanced' is not defined",
     "output_type": "error",
     "traceback": [
      "\u001b[31m---------------------------------------------------------------------------\u001b[39m",
      "\u001b[31mNameError\u001b[39m                                 Traceback (most recent call last)",
      "\u001b[36mCell\u001b[39m\u001b[36m \u001b[39m\u001b[32mIn[11]\u001b[39m\u001b[32m, line 2\u001b[39m\n\u001b[32m      1\u001b[39m \u001b[38;5;66;03m# analyze_specific_deck_enhanced(\"Green Big Creatures\", cube_df, oracle_df,analyze_deck_theme_coherence_enhanced(cube_df, oracle_df))\u001b[39;00m\n\u001b[32m----> \u001b[39m\u001b[32m2\u001b[39m \u001b[43manalyze_deck_theme_coherence_enhanced\u001b[49m(cube_df, oracle_df)[\u001b[33m\"\u001b[39m\u001b[33mGreen Big Creatures\u001b[39m\u001b[33m\"\u001b[39m][\u001b[33m'\u001b[39m\u001b[33moverall_coherence\u001b[39m\u001b[33m'\u001b[39m]\n",
      "\u001b[31mNameError\u001b[39m: name 'analyze_deck_theme_coherence_enhanced' is not defined"
     ]
    }
   ],
   "source": [
    "# analyze_specific_deck_enhanced(\"Green Big Creatures\", cube_df, oracle_df,analyze_deck_theme_coherence_enhanced(cube_df, oracle_df))\n",
    "\n",
    "\n",
    "analyze_deck_theme_coherence_enhanced(cube_df, oracle_df)[\"Green Big Creatures\"]['overall_coherence']"
   ]
  },
  {
   "cell_type": "code",
   "execution_count": null,
   "id": "086006be",
   "metadata": {},
   "outputs": [
    {
     "data": {
      "text/markdown": [
       "### Cube is valid! 🎉"
      ],
      "text/plain": [
       "<IPython.core.display.Markdown object>"
      ]
     },
     "metadata": {},
     "output_type": "display_data"
    },
    {
     "data": {
      "text/markdown": [
       "#### Deck Summaries:"
      ],
      "text/plain": [
       "<IPython.core.display.Markdown object>"
      ]
     },
     "metadata": {},
     "output_type": "display_data"
    },
    {
     "data": {
      "text/markdown": [
       "**Azorius Evasion/Flying**: {'total_cards': 13, 'lands': 2, 'non_lands': 11, 'color_issues': [], 'cards': ['Archaeomancer', 'Behold the Multiverse', 'Ephemerate', 'Lyev Skyknight', 'Lórien Revealed', 'Momentary Blink', 'Oblivion Ring', 'Peregrine Drake', 'Silver Drake', 'Azorius Chancery', 'Skybridge Towers', \"Judge's Familiar\", 'Bubble Snare']}"
      ],
      "text/plain": [
       "<IPython.core.display.Markdown object>"
      ]
     },
     "metadata": {},
     "output_type": "display_data"
    },
    {
     "data": {
      "text/markdown": [
       "**Black Aggro**: {'total_cards': 13, 'lands': 0, 'non_lands': 13, 'color_issues': [], 'cards': ['Carrier Thrall', 'Carrion Feeder', 'Dauthi Slayer', 'Gixian Infiltrator', 'Loathsome Curator', 'Scurrilous Sentry', 'Tithing Blade', 'Tortured Existence', 'Troll of Khazad-dûm', 'Vampire Lacerator', 'Vampire Sovereign', 'Wither and Bloom', 'Grasping Scoundrel']}"
      ],
      "text/plain": [
       "<IPython.core.display.Markdown object>"
      ]
     },
     "metadata": {},
     "output_type": "display_data"
    },
    {
     "data": {
      "text/markdown": [
       "**Black Control**: {'total_cards': 13, 'lands': 0, 'non_lands': 13, 'color_issues': [], 'cards': ['Accursed Marauder', 'Doom Blade', 'Falkenrath Noble', 'Gift of Fangs', 'Gray Merchant of Asphodel', 'Infestation Sage', 'Phyrexian Rager', 'Unearth', 'Unwilling Ingredient', 'Vendetta', 'Voracious Vermin', 'Plagued Rusalka', 'Guildsworn Prowler']}"
      ],
      "text/plain": [
       "<IPython.core.display.Markdown object>"
      ]
     },
     "metadata": {},
     "output_type": "display_data"
    },
    {
     "data": {
      "text/markdown": [
       "**Black Graveyard**: {'total_cards': 13, 'lands': 0, 'non_lands': 13, 'color_issues': [], 'cards': ['Blood Fountain', 'Crypt Rats', 'Faceless Butcher', 'First-Sphere Gargantua', 'Grim Bauble', 'Gurmag Angler', 'Nested Shambler', 'Nezumi Linkbreaker', \"Night's Whisper\", 'Okiba-Gang Shinobi', 'Putrid Goblin', 'Tragic Slip', 'Scrapwork Mutt']}"
      ],
      "text/plain": [
       "<IPython.core.display.Markdown object>"
      ]
     },
     "metadata": {},
     "output_type": "display_data"
    },
    {
     "data": {
      "text/markdown": [
       "**Black Sacrifice**: {'total_cards': 13, 'lands': 0, 'non_lands': 13, 'color_issues': [], 'cards': ['Aether Poisoner', 'Ashes to Ashes', 'Bone Picker', 'Candy Grapple', 'Carnophage', 'Disfigure', 'Dread Return', 'Ecstatic Awakener', 'Go for the Throat', 'Mire Triton', 'Retrofitted Transmogrant', 'Thorn of the Black Rose', 'Flayer Husk']}"
      ],
      "text/plain": [
       "<IPython.core.display.Markdown object>"
      ]
     },
     "metadata": {},
     "output_type": "display_data"
    },
    {
     "data": {
      "text/markdown": [
       "**Blue Card Draw**: {'total_cards': 13, 'lands': 0, 'non_lands': 13, 'color_issues': [], 'cards': ['Aethersnipe', 'Consider', 'Counterspell', 'Deep Analysis', 'Looter il-Kor', 'Mirrorshell Crab', 'Miscalculation', 'Mist Raven', 'Moon-Circuit Hacker', 'Opt', 'Preening Champion', 'Winter Eladrin', 'Cruel Witness']}"
      ],
      "text/plain": [
       "<IPython.core.display.Markdown object>"
      ]
     },
     "metadata": {},
     "output_type": "display_data"
    },
    {
     "data": {
      "text/markdown": [
       "**Blue Control**: {'total_cards': 13, 'lands': 0, 'non_lands': 13, 'color_issues': [], 'cards': ['Displace', 'Ghostly Flicker', \"Man-o'-War\", 'Merfolk Looter', 'Mistral Singer', 'Murmuring Mystic', 'Ponder', 'Snap', 'Sword Coast Serpent', 'Vizier of Tumbling Sands', 'Warden of Evos Isle', 'Young Blue Dragon', 'Pestermite']}"
      ],
      "text/plain": [
       "<IPython.core.display.Markdown object>"
      ]
     },
     "metadata": {},
     "output_type": "display_data"
    },
    {
     "data": {
      "text/markdown": [
       "**Blue Flyers**: {'total_cards': 13, 'lands': 0, 'non_lands': 13, 'color_issues': [], 'cards': ['Brainstorm', 'Condescend', 'Deranged Assistant', 'Geyser Drake', 'Impulse', 'Jhessian Thief', 'Preordain', 'Quick Study', 'Repeal', 'Striped Riverwinder', \"Weakstone's Subjugation\", 'Compulsive Research', 'Eldrazi Skyspawner']}"
      ],
      "text/plain": [
       "<IPython.core.display.Markdown object>"
      ]
     },
     "metadata": {},
     "output_type": "display_data"
    },
    {
     "data": {
      "text/markdown": [
       "**Blue Tempo**: {'total_cards': 13, 'lands': 0, 'non_lands': 13, 'color_issues': [], 'cards': ['Capsize', 'Cloudkin Seer', 'Into the Roil', 'Lose Focus', 'Mana Leak', 'Mocking Sprite', 'Mulldrifter', 'Phantom Interference', 'Serum Visionary', 'Treasure Cruise', 'Unable to Scream', 'Zephyr Winder', 'Shipwreck Dowser']}"
      ],
      "text/plain": [
       "<IPython.core.display.Markdown object>"
      ]
     },
     "metadata": {},
     "output_type": "display_data"
    },
    {
     "data": {
      "text/markdown": [
       "**Boros Aggro/Beatdown**: {'total_cards': 13, 'lands': 2, 'non_lands': 11, 'color_issues': [], 'cards': ['Bogardan Dragonheart', 'Conduit Goblin', 'Dog Walker', 'Goblin Motivator', 'Guttersnipe', 'Hordeling Outburst', 'Militia Bugler', 'Novice Inspector', 'Rally the Peasants', 'Tenth District Legionnaire', 'Boros Garrison', 'Lorehold Campus', 'Chain Lightning']}"
      ],
      "text/plain": [
       "<IPython.core.display.Markdown object>"
      ]
     },
     "metadata": {},
     "output_type": "display_data"
    },
    {
     "data": {
      "text/markdown": [
       "**Dimir Control**: {'total_cards': 13, 'lands': 2, 'non_lands': 11, 'color_issues': [], 'cards': ['Dimir Guildmage', 'Dinrova Horror', 'Faerie Seer', 'Feign Death', 'Hard Evidence', 'Ransack the Lab', 'Remove Soul', 'Serum Visions', 'Soul Manipulation', 'Exclude', 'Cavern Harpy', 'Waterfront District', 'Dimir Aqueduct']}"
      ],
      "text/plain": [
       "<IPython.core.display.Markdown object>"
      ]
     },
     "metadata": {},
     "output_type": "display_data"
    },
    {
     "data": {
      "text/markdown": [
       "**Golgari Graveyard**: {'total_cards': 13, 'lands': 2, 'non_lands': 11, 'color_issues': [], 'cards': ['Chitin Gravestalker', 'Desecrator Hag', 'Gravedigger', 'Infuse with Vitality', 'Jade Avenger', 'Mardu Skullhunter', 'Nest Invader', 'Putrid Leech', 'Undying Malice', 'Dreg Mangler', 'Golgari Rot Farm', 'Witherbloom Campus', 'Eldrazi Repurposer']}"
      ],
      "text/plain": [
       "<IPython.core.display.Markdown object>"
      ]
     },
     "metadata": {},
     "output_type": "display_data"
    },
    {
     "data": {
      "text/markdown": [
       "**Green Big Creatures**: {'total_cards': 13, 'lands': 0, 'non_lands': 13, 'color_issues': [], 'cards': ['Colossal Dreadmask', 'Generous Ent', 'Hazard of the Dunes', 'Jade Guardian', 'Jewel Thief', 'Krosan Tusker', 'Lead the Stampede', 'Malevolent Rumble', \"Sarulf's Packmate\", 'Urban Daggertooth', 'Utopia Sprawl', 'Wary Thespian', 'Basking Broodscale']}"
      ],
      "text/plain": [
       "<IPython.core.display.Markdown object>"
      ]
     },
     "metadata": {},
     "output_type": "display_data"
    },
    {
     "data": {
      "text/markdown": [
       "**Green Midrange**: {'total_cards': 13, 'lands': 0, 'non_lands': 13, 'color_issues': [], 'cards': ['Abundant Harvest', 'Bloom Hulk', 'Conclave Naturalists', 'Grapple with the Past', 'Hooting Mandrills', 'Longstalk Brawl', 'Massive Might', 'Rancor', 'Trumpeting Herd', 'Vines of Vastwood', 'Bannerhide Krushok', 'Elvish Mystic', 'Farseek']}"
      ],
      "text/plain": [
       "<IPython.core.display.Markdown object>"
      ]
     },
     "metadata": {},
     "output_type": "display_data"
    },
    {
     "data": {
      "text/markdown": [
       "**Green Ramp**: {'total_cards': 13, 'lands': 0, 'non_lands': 13, 'color_issues': [], 'cards': ['Fertile Ground', 'Arbor Elf', 'Bushwhack', 'Giant Growth', 'Nyxborn Hydra', 'Ram Through', 'Sakura-Tribe Elder', \"Tamiyo's Safekeeping\", 'Treetop Snarespinner', 'Tuskguard Captain', 'Voracious Varmint', 'Wild Growth', 'Horrific Assault']}"
      ],
      "text/plain": [
       "<IPython.core.display.Markdown object>"
      ]
     },
     "metadata": {},
     "output_type": "display_data"
    },
    {
     "data": {
      "text/markdown": [
       "**Green Stompy**: {'total_cards': 13, 'lands': 0, 'non_lands': 13, 'color_issues': [], 'cards': ['Annoyed Altisaur', 'Contagious Vorrac', 'Evolution Witness', 'Gnarlid Colony', 'Llanowar Elves', 'Llanowar Visionary', 'Mother Bear', 'Phantom Tiger', 'Pulse of Murasa', 'Yavimaya Elder', 'You Meet in a Tavern', 'Greater Tanuki', 'Renegade Freighter']}"
      ],
      "text/plain": [
       "<IPython.core.display.Markdown object>"
      ]
     },
     "metadata": {},
     "output_type": "display_data"
    },
    {
     "data": {
      "text/markdown": [
       "**Gruul Aggro/Beatdown**: {'total_cards': 13, 'lands': 2, 'non_lands': 11, 'color_issues': [], 'cards': ['Blastoderm', 'Branching Bolt', 'Burning-Tree Emissary', 'Frenzied Goblin', 'Goblin Anarchomancer', 'Owlbear', 'Rolling Thunder', 'Silverback Shaman', 'Werebear', 'Gruul Turf', \"Racers' Ring\", 'Mutagenic Growth', 'Writhing Chrysalis']}"
      ],
      "text/plain": [
       "<IPython.core.display.Markdown object>"
      ]
     },
     "metadata": {},
     "output_type": "display_data"
    },
    {
     "data": {
      "text/markdown": [
       "**Izzet Control**: {'total_cards': 13, 'lands': 2, 'non_lands': 11, 'color_issues': [], 'cards': ['Bloodwater Entity', 'Improvised Club', 'Izzet Charm', 'Jackal Pup', 'Lightning Strike', 'Orcish Hellraiser', 'Tempest Angler', 'Tolarian Terror', 'Volatile Wanderglyph', 'Fireball', 'Goblin Electromancer', 'Izzet Boilerworks', 'Prismari Campus']}"
      ],
      "text/plain": [
       "<IPython.core.display.Markdown object>"
      ]
     },
     "metadata": {},
     "output_type": "display_data"
    },
    {
     "data": {
      "text/markdown": [
       "**Orzhov Control**: {'total_cards': 13, 'lands': 2, 'non_lands': 11, 'color_issues': [], 'cards': ['Gift of Orzhova', 'Gods Willing', 'Guardian of the Guildpact', \"Kingpin's Pet\", 'Legion Vanguard', 'Mana Tithe', 'Pillory of the Sleepless', 'Tithe Drinker', 'Topan Freeblade', 'Village Rites', 'Orzhov Basilica', 'Silverquill Campus', 'Blessed Hippogriff']}"
      ],
      "text/plain": [
       "<IPython.core.display.Markdown object>"
      ]
     },
     "metadata": {},
     "output_type": "display_data"
    },
    {
     "data": {
      "text/markdown": [
       "**Rakdos Burn/Damage**: {'total_cards': 13, 'lands': 2, 'non_lands': 11, 'color_issues': [], 'cards': ['Body Dropper', 'Cast Down', 'Cindering Cutthroat', 'Dauthi Horror', 'Death Denied', 'Fireblade Artist', 'Hissing Iguanar', 'Molten Gatekeeper', 'Raid Bombardment', 'Blightning', 'Rakdos Carnarium', 'Tramway Station', 'Lightning Bolt']}"
      ],
      "text/plain": [
       "<IPython.core.display.Markdown object>"
      ]
     },
     "metadata": {},
     "output_type": "display_data"
    },
    {
     "data": {
      "text/markdown": [
       "**Red Aggro**: {'total_cards': 13, 'lands': 0, 'non_lands': 13, 'color_issues': [], 'cards': ['Fireblast', 'Abrade', 'Beetleback Chief', 'Burst Lightning', 'Firebrand Archer', 'Fireslinger', 'Mogg War Marshal', 'Sulfurous Blast', 'Thriving Grubs', 'Wrangle', 'Yavimaya Steelcrusher', 'Thriving Skyclaw', 'Gingerbrute']}"
      ],
      "text/plain": [
       "<IPython.core.display.Markdown object>"
      ]
     },
     "metadata": {},
     "output_type": "display_data"
    },
    {
     "data": {
      "text/markdown": [
       "**Red Artifacts**: {'total_cards': 13, 'lands': 0, 'non_lands': 13, 'color_issues': [], 'cards': ['Goblin Bushwhacker', 'Goblin Surprise', 'Hobblefiend', 'Monastery Swiftspear', 'Oliphaunt', 'Reckless Charge', 'Reckless Impulse', 'Rimrock Knight', 'Spelleater Wolverine', 'Underworld Rage-Hound', 'Wildfire Elemental', \"Wrenn's Resolve\", 'Guardian Idol']}"
      ],
      "text/plain": [
       "<IPython.core.display.Markdown object>"
      ]
     },
     "metadata": {},
     "output_type": "display_data"
    },
    {
     "data": {
      "text/markdown": [
       "**Red Burn**: {'total_cards': 13, 'lands': 1, 'non_lands': 12, 'color_issues': [], 'cards': ['Galvanic Discharge', 'Ambitious Assault', 'Ardent Elementalist', 'Barbed Batterfist', 'Dark-Dweller Oracle', 'Flame Slash', 'Incinerate', 'Red Herring', 'Scholar of Combustion', 'Skewer the Critics', 'Tuskeri Firewalker', 'Teetering Peaks', 'Rift Bolt']}"
      ],
      "text/plain": [
       "<IPython.core.display.Markdown object>"
      ]
     },
     "metadata": {},
     "output_type": "display_data"
    },
    {
     "data": {
      "text/markdown": [
       "**Red Small Creatures**: {'total_cards': 13, 'lands': 0, 'non_lands': 13, 'color_issues': [], 'cards': ['Clockwork Percussionist', 'Grim Initiate', 'Mayhem Patrol', 'Aether Chaser', 'Fanatical Firebrand', 'Firebolt', 'Forbidden Friendship', 'Gnawing Crescendo', 'Rally at the Hornburg', 'Scorched Rusalka', 'Searing Spear', 'Witty Roastmaster', 'Harried Spearguard']}"
      ],
      "text/plain": [
       "<IPython.core.display.Markdown object>"
      ]
     },
     "metadata": {},
     "output_type": "display_data"
    },
    {
     "data": {
      "text/markdown": [
       "**Selesnya Control**: {'total_cards': 13, 'lands': 3, 'non_lands': 10, 'color_issues': [], 'cards': ['Armadillo Cloak', 'Captured by Lagacs', 'Faithful Watchdog', 'Safehold Elite', 'Snakeskin Veil', 'Soltari Trooper', 'Unbounded Potential', 'Wall of Roots', 'Winding Way', 'Botanical Plaza', 'Radiant Grove', 'Selesnya Sanctuary', \"Nature's Lore\"]}"
      ],
      "text/plain": [
       "<IPython.core.display.Markdown object>"
      ]
     },
     "metadata": {},
     "output_type": "display_data"
    },
    {
     "data": {
      "text/markdown": [
       "**Simic Control**: {'total_cards': 13, 'lands': 3, 'non_lands': 10, 'color_issues': [], 'cards': ['Bramble Wurm', 'Coiling Oracle', 'Experiment One', 'Frost Trickster', 'Growth Spiral', 'Monstrous Emergence', 'Quandrix Pledgemage', 'Sprout Swarm', 'Quandrix Campus', 'Simic Growth Chamber', 'Tangled Islet', 'Snapping Voidcraw', 'Gitaxian Probe']}"
      ],
      "text/plain": [
       "<IPython.core.display.Markdown object>"
      ]
     },
     "metadata": {},
     "output_type": "display_data"
    },
    {
     "data": {
      "text/markdown": [
       "**White Aggro**: {'total_cards': 13, 'lands': 0, 'non_lands': 13, 'color_issues': [], 'cards': ['Aerie Auxiliary', 'Ainok Bond-Kin', 'Cartouche of Solidarity', 'Faerie Guidemother', \"Gideon's Lawkeeper\", 'Inspiring Paladin', 'Mandibular Kite', 'Palace Sentinels', 'Pegasus Guardian', \"Raffine's Informant\", 'Sandsteppe Outcast', 'Stormfront Pegasus', 'Boros Elite']}"
      ],
      "text/plain": [
       "<IPython.core.display.Markdown object>"
      ]
     },
     "metadata": {},
     "output_type": "display_data"
    },
    {
     "data": {
      "text/markdown": [
       "**White Control**: {'total_cards': 13, 'lands': 0, 'non_lands': 13, 'color_issues': [], 'cards': ['Dauntless Unity', 'Inspiring Overseer', 'Journey to Nowhere', 'Petrify', 'Rhox Veteran', 'Search Party Captain', 'Suture Priest', 'Thraben Charm', 'Thraben Inspector', 'You Hear Something on Watch', 'Cathar Commando', 'Alabaster Host Intercessor', 'Borrowed Grace']}"
      ],
      "text/plain": [
       "<IPython.core.display.Markdown object>"
      ]
     },
     "metadata": {},
     "output_type": "display_data"
    },
    {
     "data": {
      "text/markdown": [
       "**White Equipment**: {'total_cards': 13, 'lands': 0, 'non_lands': 13, 'color_issues': [], 'cards': ['Custodi Squire', 'Deftblade Elite', 'Doomed Traveler', \"Heliod's Pilgrim\", 'Bonesplitter', \"Miner's Guidewing\", 'Phantom Nomad', 'Planar Disruption', 'Vulshok Morningstar', 'Seeker of the Way', 'Glimmerlight', 'Ancestral Blade', 'Greatsword of Tyr']}"
      ],
      "text/plain": [
       "<IPython.core.display.Markdown object>"
      ]
     },
     "metadata": {},
     "output_type": "display_data"
    },
    {
     "data": {
      "text/markdown": [
       "**White Tokens**: {'total_cards': 13, 'lands': 0, 'non_lands': 13, 'color_issues': [], 'cards': ['Ardenvale Tactician', 'Coalition Honor Guard', 'Combat Professor', 'Dog Umbra', 'Eagles of the North', 'Holy Cow', 'Kor Skyfisher', 'Savannah Lions', 'Settle Beyond Reality', 'Sunlance', 'Syndic of Tithes', 'Battle Screech', 'Raise the Alarm']}"
      ],
      "text/plain": [
       "<IPython.core.display.Markdown object>"
      ]
     },
     "metadata": {},
     "output_type": "display_data"
    }
   ],
   "source": [
    "\n",
    "\n",
    "display_validate_results(validate_jumpstart_cube(cube_df, oracle_df))"
   ]
  },
  {
   "cell_type": "code",
   "execution_count": null,
   "id": "512e7fa4",
   "metadata": {},
   "outputs": [
    {
     "name": "stdout",
     "output_type": "stream",
     "text": [
      "{'expected_themes': ['Big Creatures'], 'theme_score': 0.5384615384615384, 'theme_matches': [{'card': 'Colossal Dreadmask', 'score': 2, 'themes': ['Big Creatures(2)']}, {'card': 'Generous Ent', 'score': 1, 'themes': ['Big Creatures(5+ power/toughness)']}, {'card': 'Hazard of the Dunes', 'score': 2, 'themes': ['Big Creatures(2)']}, {'card': 'Jade Guardian', 'score': 0, 'themes': []}, {'card': 'Jewel Thief', 'score': 1, 'themes': ['Big Creatures(1)']}, {'card': 'Krosan Tusker', 'score': 1, 'themes': ['Big Creatures(5+ power/toughness)']}, {'card': 'Lead the Stampede', 'score': 0, 'themes': []}, {'card': 'Malevolent Rumble', 'score': 0, 'themes': []}, {'card': \"Sarulf's Packmate\", 'score': 0, 'themes': []}, {'card': 'Urban Daggertooth', 'score': 0, 'themes': []}, {'card': 'Utopia Sprawl', 'score': 0, 'themes': []}, {'card': 'Wary Thespian', 'score': 0, 'themes': []}, {'card': 'Basking Broodscale', 'score': 0, 'themes': []}], 'color_coherence': 1.0, 'color_issues': [], 'mana_curve_score': 0.8, 'mana_curve': {6: 2, 4: 4, 3: 2, 7: 1, 2: 3, 1: 1}, 'creature_stats': {'creature_count': 10, 'total_power': 32.0, 'total_toughness': 30.0, 'avg_power': 3.2, 'avg_toughness': 3.0, 'power_distribution': {0: 1, 5: 1, 4: 2, 2: 2, 3: 3, 6: 1}, 'toughness_distribution': {0: 1, 7: 1, 4: 1, 2: 2, 3: 3, 5: 1, 1: 1}, 'creature_categories': {'small': 3, 'medium': 5, 'large': 2, 'utility': 9, 'evasive': 3}, 'theme_alignment_score': 0.264, 'creature_details': [{'name': 'Colossal Dreadmask', 'power': 0.0, 'toughness': 0.0, 'categories': ['small', 'evasive', 'utility'], 'has_evasion': True, 'has_utility': True}, {'name': 'Generous Ent', 'power': 5.0, 'toughness': 7.0, 'categories': ['large', 'utility'], 'has_evasion': False, 'has_utility': True}, {'name': 'Hazard of the Dunes', 'power': 4.0, 'toughness': 4.0, 'categories': ['medium', 'evasive'], 'has_evasion': True, 'has_utility': False}, {'name': 'Jade Guardian', 'power': 2.0, 'toughness': 2.0, 'categories': ['small', 'utility'], 'has_evasion': False, 'has_utility': True}, {'name': 'Jewel Thief', 'power': 3.0, 'toughness': 3.0, 'categories': ['medium', 'evasive', 'utility'], 'has_evasion': True, 'has_utility': True}, {'name': 'Krosan Tusker', 'power': 6.0, 'toughness': 5.0, 'categories': ['large', 'utility'], 'has_evasion': False, 'has_utility': True}, {'name': \"Sarulf's Packmate\", 'power': 3.0, 'toughness': 3.0, 'categories': ['medium', 'utility'], 'has_evasion': False, 'has_utility': True}, {'name': 'Urban Daggertooth', 'power': 4.0, 'toughness': 3.0, 'categories': ['medium', 'utility'], 'has_evasion': False, 'has_utility': True}, {'name': 'Wary Thespian', 'power': 3.0, 'toughness': 1.0, 'categories': ['medium', 'utility'], 'has_evasion': False, 'has_utility': True}, {'name': 'Basking Broodscale', 'power': 2.0, 'toughness': 2.0, 'categories': ['small', 'utility'], 'has_evasion': False, 'has_utility': True}]}, 'overall_coherence': 43.007384615384616, 'deck_colors': 'G', 'card_count': 13}\n"
     ]
    }
   ],
   "source": [
    "deck = \"Green Big Creatures\"\n",
    "print(analyze_deck_theme_coherence_enhanced(cube_df, oracle_df)[deck])"
   ]
  },
  {
   "cell_type": "code",
   "execution_count": null,
   "id": "32908cd5",
   "metadata": {},
   "outputs": [
    {
     "name": "stdout",
     "output_type": "stream",
     "text": [
      "43.007384615384616\n",
      "🎯 Optimizing Green Big Creatures...\n"
     ]
    },
    {
     "ename": "KeyboardInterrupt",
     "evalue": "",
     "output_type": "error",
     "traceback": [
      "\u001b[31m---------------------------------------------------------------------------\u001b[39m",
      "\u001b[31mKeyboardInterrupt\u001b[39m                         Traceback (most recent call last)",
      "\u001b[36mCell\u001b[39m\u001b[36m \u001b[39m\u001b[32mIn[14]\u001b[39m\u001b[32m, line 3\u001b[39m\n\u001b[32m      1\u001b[39m \u001b[38;5;28mprint\u001b[39m(analyze_deck_theme_coherence_enhanced(cube_df, oracle_df)[deck][\u001b[33m'\u001b[39m\u001b[33moverall_coherence\u001b[39m\u001b[33m'\u001b[39m])\n\u001b[32m----> \u001b[39m\u001b[32m3\u001b[39m modified_cube, swap_results = \u001b[43mquick_deck_optimization\u001b[49m\u001b[43m(\u001b[49m\u001b[43mdeck\u001b[49m\u001b[43m,\u001b[49m\u001b[43m \u001b[49m\u001b[43mcube_df\u001b[49m\u001b[43m,\u001b[49m\u001b[43m \u001b[49m\u001b[43moracle_df\u001b[49m\u001b[43m)\u001b[49m\n\u001b[32m      5\u001b[39m \u001b[38;5;66;03m# print(analyze_deck_theme_coherence_enhanced(modified_cube, oracle_df)[deck]['overall_coherence'])\u001b[39;00m\n\u001b[32m      6\u001b[39m \n\u001b[32m      7\u001b[39m \u001b[38;5;66;03m# Apply the changes if you like them\u001b[39;00m\n\u001b[32m      8\u001b[39m \u001b[38;5;28;01mif\u001b[39;00m swap_results:\n",
      "\u001b[36mCell\u001b[39m\u001b[36m \u001b[39m\u001b[32mIn[7]\u001b[39m\u001b[32m, line 139\u001b[39m, in \u001b[36mquick_deck_optimization\u001b[39m\u001b[34m(deck_name, cube_df, oracle_df, apply_changes)\u001b[39m\n\u001b[32m    136\u001b[39m \u001b[38;5;28mprint\u001b[39m(\u001b[33mf\u001b[39m\u001b[33m\"\u001b[39m\u001b[33m🎯 Optimizing \u001b[39m\u001b[38;5;132;01m{\u001b[39;00mdeck_name\u001b[38;5;132;01m}\u001b[39;00m\u001b[33m...\u001b[39m\u001b[33m\"\u001b[39m)\n\u001b[32m    138\u001b[39m \u001b[38;5;66;03m# Get swap recommendations\u001b[39;00m\n\u001b[32m--> \u001b[39m\u001b[32m139\u001b[39m swap_results = \u001b[43moptimize_deck_with_swaps\u001b[49m\u001b[43m(\u001b[49m\u001b[43mdeck_name\u001b[49m\u001b[43m,\u001b[49m\u001b[43m \u001b[49m\u001b[43mcube_df\u001b[49m\u001b[43m,\u001b[49m\u001b[43m \u001b[49m\u001b[43moracle_df\u001b[49m\u001b[43m)\u001b[49m\n\u001b[32m    141\u001b[39m \u001b[38;5;66;03m# Display recommendations\u001b[39;00m\n\u001b[32m    142\u001b[39m display_swap_recommendations(deck_name, swap_results, cube_df, oracle_df)\n",
      "\u001b[36mCell\u001b[39m\u001b[36m \u001b[39m\u001b[32mIn[6]\u001b[39m\u001b[32m, line 111\u001b[39m, in \u001b[36moptimize_deck_with_swaps\u001b[39m\u001b[34m(deck_name, cube_df, oracle_df, max_swaps)\u001b[39m\n\u001b[32m    108\u001b[39m         temp_cube = pd.concat([temp_cube, pd.DataFrame([cube_row])], ignore_index=\u001b[38;5;28;01mTrue\u001b[39;00m)\n\u001b[32m    110\u001b[39m \u001b[38;5;66;03m# Calculate new score\u001b[39;00m\n\u001b[32m--> \u001b[39m\u001b[32m111\u001b[39m new_analysis = \u001b[43manalyze_deck_theme_coherence_enhanced\u001b[49m\u001b[43m(\u001b[49m\u001b[43mtemp_cube\u001b[49m\u001b[43m,\u001b[49m\u001b[43m \u001b[49m\u001b[43moracle_df\u001b[49m\u001b[43m)\u001b[49m\n\u001b[32m    112\u001b[39m \u001b[38;5;28;01mif\u001b[39;00m deck_name \u001b[38;5;129;01min\u001b[39;00m new_analysis:\n\u001b[32m    113\u001b[39m     new_score = new_analysis[deck_name][\u001b[33m'\u001b[39m\u001b[33moverall_coherence\u001b[39m\u001b[33m'\u001b[39m]\n",
      "\u001b[36mCell\u001b[39m\u001b[36m \u001b[39m\u001b[32mIn[3]\u001b[39m\u001b[32m, line 262\u001b[39m, in \u001b[36manalyze_deck_theme_coherence_enhanced\u001b[39m\u001b[34m(cube_df, oracle_df)\u001b[39m\n\u001b[32m    260\u001b[39m \u001b[38;5;66;03m# Calculate scores\u001b[39;00m\n\u001b[32m    261\u001b[39m theme_score, theme_matches = calculate_theme_score(deck_cards, expected_themes, oracle_df)\n\u001b[32m--> \u001b[39m\u001b[32m262\u001b[39m color_coherence, color_issues = \u001b[43mcalculate_color_coherence\u001b[49m\u001b[43m(\u001b[49m\u001b[43mdeck_cards\u001b[49m\u001b[43m,\u001b[49m\u001b[43m \u001b[49m\u001b[43mdeck_colors\u001b[49m\u001b[43m,\u001b[49m\u001b[43m \u001b[49m\u001b[43moracle_df\u001b[49m\u001b[43m)\u001b[49m\n\u001b[32m    263\u001b[39m curve_score, mana_curve = calculate_mana_curve_coherence(deck_cards)\n\u001b[32m    264\u001b[39m creature_stats = calculate_creature_stats_coherence(deck_cards, expected_themes, oracle_df)\n",
      "\u001b[36mCell\u001b[39m\u001b[36m \u001b[39m\u001b[32mIn[3]\u001b[39m\u001b[32m, line 195\u001b[39m, in \u001b[36manalyze_deck_theme_coherence_enhanced.<locals>.calculate_color_coherence\u001b[39m\u001b[34m(cards, deck_colors, oracle_df)\u001b[39m\n\u001b[32m    192\u001b[39m     color_issues.append(\u001b[33mf\u001b[39m\u001b[33m\"\u001b[39m\u001b[38;5;132;01m{\u001b[39;00mcard_name\u001b[38;5;132;01m}\u001b[39;00m\u001b[33m: Not found in oracle\u001b[39m\u001b[33m\"\u001b[39m)\n\u001b[32m    193\u001b[39m     \u001b[38;5;28;01mcontinue\u001b[39;00m\n\u001b[32m--> \u001b[39m\u001b[32m195\u001b[39m card_color = \u001b[43moracle_card\u001b[49m\u001b[43m.\u001b[49m\u001b[43miloc\u001b[49m\u001b[43m[\u001b[49m\u001b[32;43m0\u001b[39;49m\u001b[43m]\u001b[49m[\u001b[33m'\u001b[39m\u001b[33mColor\u001b[39m\u001b[33m'\u001b[39m]\n\u001b[32m    196\u001b[39m card_category = oracle_card.iloc[\u001b[32m0\u001b[39m][\u001b[33m'\u001b[39m\u001b[33mColor Category\u001b[39m\u001b[33m'\u001b[39m]\n\u001b[32m    198\u001b[39m total_cards += \u001b[32m1\u001b[39m\n",
      "\u001b[36mFile \u001b[39m\u001b[32m~/workspace/personal/Learning/magic/.venv/lib/python3.13/site-packages/pandas/core/indexing.py:1191\u001b[39m, in \u001b[36m_LocationIndexer.__getitem__\u001b[39m\u001b[34m(self, key)\u001b[39m\n\u001b[32m   1189\u001b[39m maybe_callable = com.apply_if_callable(key, \u001b[38;5;28mself\u001b[39m.obj)\n\u001b[32m   1190\u001b[39m maybe_callable = \u001b[38;5;28mself\u001b[39m._check_deprecated_callable_usage(key, maybe_callable)\n\u001b[32m-> \u001b[39m\u001b[32m1191\u001b[39m \u001b[38;5;28;01mreturn\u001b[39;00m \u001b[38;5;28;43mself\u001b[39;49m\u001b[43m.\u001b[49m\u001b[43m_getitem_axis\u001b[49m\u001b[43m(\u001b[49m\u001b[43mmaybe_callable\u001b[49m\u001b[43m,\u001b[49m\u001b[43m \u001b[49m\u001b[43maxis\u001b[49m\u001b[43m=\u001b[49m\u001b[43maxis\u001b[49m\u001b[43m)\u001b[49m\n",
      "\u001b[36mFile \u001b[39m\u001b[32m~/workspace/personal/Learning/magic/.venv/lib/python3.13/site-packages/pandas/core/indexing.py:1754\u001b[39m, in \u001b[36m_iLocIndexer._getitem_axis\u001b[39m\u001b[34m(self, key, axis)\u001b[39m\n\u001b[32m   1751\u001b[39m \u001b[38;5;66;03m# validate the location\u001b[39;00m\n\u001b[32m   1752\u001b[39m \u001b[38;5;28mself\u001b[39m._validate_integer(key, axis)\n\u001b[32m-> \u001b[39m\u001b[32m1754\u001b[39m \u001b[38;5;28;01mreturn\u001b[39;00m \u001b[38;5;28;43mself\u001b[39;49m\u001b[43m.\u001b[49m\u001b[43mobj\u001b[49m\u001b[43m.\u001b[49m\u001b[43m_ixs\u001b[49m\u001b[43m(\u001b[49m\u001b[43mkey\u001b[49m\u001b[43m,\u001b[49m\u001b[43m \u001b[49m\u001b[43maxis\u001b[49m\u001b[43m=\u001b[49m\u001b[43maxis\u001b[49m\u001b[43m)\u001b[49m\n",
      "\u001b[36mFile \u001b[39m\u001b[32m~/workspace/personal/Learning/magic/.venv/lib/python3.13/site-packages/pandas/core/frame.py:4001\u001b[39m, in \u001b[36mDataFrame._ixs\u001b[39m\u001b[34m(self, i, axis)\u001b[39m\n\u001b[32m   3999\u001b[39m \u001b[38;5;66;03m# irow\u001b[39;00m\n\u001b[32m   4000\u001b[39m \u001b[38;5;28;01mif\u001b[39;00m axis == \u001b[32m0\u001b[39m:\n\u001b[32m-> \u001b[39m\u001b[32m4001\u001b[39m     new_mgr = \u001b[38;5;28;43mself\u001b[39;49m\u001b[43m.\u001b[49m\u001b[43m_mgr\u001b[49m\u001b[43m.\u001b[49m\u001b[43mfast_xs\u001b[49m\u001b[43m(\u001b[49m\u001b[43mi\u001b[49m\u001b[43m)\u001b[49m\n\u001b[32m   4003\u001b[39m     \u001b[38;5;66;03m# if we are a copy, mark as such\u001b[39;00m\n\u001b[32m   4004\u001b[39m     copy = \u001b[38;5;28misinstance\u001b[39m(new_mgr.array, np.ndarray) \u001b[38;5;129;01mand\u001b[39;00m new_mgr.array.base \u001b[38;5;129;01mis\u001b[39;00m \u001b[38;5;28;01mNone\u001b[39;00m\n",
      "\u001b[36mFile \u001b[39m\u001b[32m~/workspace/personal/Learning/magic/.venv/lib/python3.13/site-packages/pandas/core/internals/managers.py:1001\u001b[39m, in \u001b[36mBlockManager.fast_xs\u001b[39m\u001b[34m(self, loc)\u001b[39m\n\u001b[32m    996\u001b[39m     result = ensure_wrapped_if_datetimelike(result)\n\u001b[32m    998\u001b[39m \u001b[38;5;28;01mfor\u001b[39;00m blk \u001b[38;5;129;01min\u001b[39;00m \u001b[38;5;28mself\u001b[39m.blocks:\n\u001b[32m    999\u001b[39m     \u001b[38;5;66;03m# Such assignment may incorrectly coerce NaT to None\u001b[39;00m\n\u001b[32m   1000\u001b[39m     \u001b[38;5;66;03m# result[blk.mgr_locs] = blk._slice((slice(None), loc))\u001b[39;00m\n\u001b[32m-> \u001b[39m\u001b[32m1001\u001b[39m     \u001b[38;5;28;01mfor\u001b[39;00m i, rl \u001b[38;5;129;01min\u001b[39;00m \u001b[38;5;28menumerate\u001b[39m(\u001b[43mblk\u001b[49m\u001b[43m.\u001b[49m\u001b[43mmgr_locs\u001b[49m):\n\u001b[32m   1002\u001b[39m         result[rl] = blk.iget((i, loc))\n\u001b[32m   1004\u001b[39m \u001b[38;5;28;01mif\u001b[39;00m \u001b[38;5;28misinstance\u001b[39m(dtype, ExtensionDtype):\n",
      "\u001b[36mFile \u001b[39m\u001b[32m~/workspace/personal/Learning/magic/.venv/lib/python3.13/site-packages/pandas/core/internals/blocks.py:268\u001b[39m, in \u001b[36mBlock.mgr_locs\u001b[39m\u001b[34m(self)\u001b[39m\n\u001b[32m    265\u001b[39m         value = \u001b[38;5;28mself\u001b[39m.fill_value\n\u001b[32m    266\u001b[39m     \u001b[38;5;28;01mreturn\u001b[39;00m value\n\u001b[32m--> \u001b[39m\u001b[32m268\u001b[39m \u001b[38;5;129m@property\u001b[39m\n\u001b[32m    269\u001b[39m \u001b[38;5;28;01mdef\u001b[39;00m\u001b[38;5;250m \u001b[39m\u001b[34mmgr_locs\u001b[39m(\u001b[38;5;28mself\u001b[39m) -> BlockPlacement:\n\u001b[32m    270\u001b[39m     \u001b[38;5;28;01mreturn\u001b[39;00m \u001b[38;5;28mself\u001b[39m._mgr_locs\n\u001b[32m    272\u001b[39m \u001b[38;5;129m@mgr_locs\u001b[39m.setter\n\u001b[32m    273\u001b[39m \u001b[38;5;28;01mdef\u001b[39;00m\u001b[38;5;250m \u001b[39m\u001b[34mmgr_locs\u001b[39m(\u001b[38;5;28mself\u001b[39m, new_mgr_locs: BlockPlacement) -> \u001b[38;5;28;01mNone\u001b[39;00m:\n",
      "\u001b[31mKeyboardInterrupt\u001b[39m: "
     ]
    }
   ],
   "source": [
    "\n",
    "print(analyze_deck_theme_coherence_enhanced(cube_df, oracle_df)[deck]['overall_coherence'])\n",
    "\n",
    "modified_cube, swap_results = quick_deck_optimization(deck, cube_df, oracle_df)\n",
    "\n",
    "# print(analyze_deck_theme_coherence_enhanced(modified_cube, oracle_df)[deck]['overall_coherence'])\n",
    "\n",
    "# Apply the changes if you like them\n",
    "if swap_results:\n",
    "    cube_df = apply_swap_recommendations(deck, swap_results, cube_df)\n",
    "\n",
    "print(analyze_deck_theme_coherence_enhanced(cube_df, oracle_df)[deck]['overall_coherence'])\n"
   ]
  },
  {
   "cell_type": "markdown",
   "id": "cb020dae",
   "metadata": {},
   "source": [
    "# Generated Below"
   ]
  },
  {
   "cell_type": "code",
   "execution_count": null,
   "id": "f6e920de",
   "metadata": {},
   "outputs": [],
   "source": [
    "# Example: Export the current cube to CSV\n",
    "# This will create a file with timestamp in the name\n",
    "filename = quick_export_cube(cube_df, oracle_df)\n",
    "\n",
    "# Validate the export\n",
    "validate_export(filename, cube_df)"
   ]
  }
 ],
 "metadata": {
  "kernelspec": {
   "display_name": "magic",
   "language": "python",
   "name": "python3"
  },
  "language_info": {
   "codemirror_mode": {
    "name": "ipython",
    "version": 3
   },
   "file_extension": ".py",
   "mimetype": "text/x-python",
   "name": "python",
   "nbconvert_exporter": "python",
   "pygments_lexer": "ipython3",
   "version": "3.13.2"
  }
 },
 "nbformat": 4,
 "nbformat_minor": 5
}
