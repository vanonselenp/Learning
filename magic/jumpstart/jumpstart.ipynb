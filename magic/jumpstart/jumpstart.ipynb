{
 "cells": [
  {
   "cell_type": "code",
   "execution_count": 1,
   "id": "6ef0b8fa",
   "metadata": {},
   "outputs": [],
   "source": [
    "import pandas as pd\n",
    "from dotenv import load_dotenv\n",
    "from openai import OpenAI\n",
    "from anthropic import Anthropic\n",
    "from src.consts import *\n",
    "from src.validation import validate_jumpstart_cube, display_validate_results\n",
    "from src.coherence import analyze_deck_theme_coherence_enhanced\n",
    "\n",
    "load_dotenv(override=True)\n",
    "openai = OpenAI()\n",
    "anthropic = Anthropic() \n",
    "\n",
    "# Load the data files\n",
    "oracle_df = pd.read_csv('ThePauperCube_oracle_with_pt.csv')\n",
    "cube_df = pd.read_csv('JumpstartCube_ThePauperCube_ULTIMATE_Final_v3.csv')"
   ]
  },
  {
   "cell_type": "code",
   "execution_count": 2,
   "id": "68616cb9",
   "metadata": {},
   "outputs": [
    {
     "data": {
      "text/markdown": [
       "### Cube is validass! 🎉"
      ],
      "text/plain": [
       "<IPython.core.display.Markdown object>"
      ]
     },
     "metadata": {},
     "output_type": "display_data"
    },
    {
     "data": {
      "text/markdown": [
       "#### Deck Summaries:"
      ],
      "text/plain": [
       "<IPython.core.display.Markdown object>"
      ]
     },
     "metadata": {},
     "output_type": "display_data"
    },
    {
     "data": {
      "text/markdown": [
       "**Azorius Evasion/Flying** 13 cards"
      ],
      "text/plain": [
       "<IPython.core.display.Markdown object>"
      ]
     },
     "metadata": {},
     "output_type": "display_data"
    },
    {
     "data": {
      "text/markdown": [
       "**Black Aggro** 13 cards"
      ],
      "text/plain": [
       "<IPython.core.display.Markdown object>"
      ]
     },
     "metadata": {},
     "output_type": "display_data"
    },
    {
     "data": {
      "text/markdown": [
       "**Black Control** 13 cards"
      ],
      "text/plain": [
       "<IPython.core.display.Markdown object>"
      ]
     },
     "metadata": {},
     "output_type": "display_data"
    },
    {
     "data": {
      "text/markdown": [
       "**Black Graveyard** 13 cards"
      ],
      "text/plain": [
       "<IPython.core.display.Markdown object>"
      ]
     },
     "metadata": {},
     "output_type": "display_data"
    },
    {
     "data": {
      "text/markdown": [
       "**Black Sacrifice** 13 cards"
      ],
      "text/plain": [
       "<IPython.core.display.Markdown object>"
      ]
     },
     "metadata": {},
     "output_type": "display_data"
    },
    {
     "data": {
      "text/markdown": [
       "**Blue Card Draw** 13 cards"
      ],
      "text/plain": [
       "<IPython.core.display.Markdown object>"
      ]
     },
     "metadata": {},
     "output_type": "display_data"
    },
    {
     "data": {
      "text/markdown": [
       "**Blue Control** 13 cards"
      ],
      "text/plain": [
       "<IPython.core.display.Markdown object>"
      ]
     },
     "metadata": {},
     "output_type": "display_data"
    },
    {
     "data": {
      "text/markdown": [
       "**Blue Flyers** 13 cards"
      ],
      "text/plain": [
       "<IPython.core.display.Markdown object>"
      ]
     },
     "metadata": {},
     "output_type": "display_data"
    },
    {
     "data": {
      "text/markdown": [
       "**Blue Tempo** 13 cards"
      ],
      "text/plain": [
       "<IPython.core.display.Markdown object>"
      ]
     },
     "metadata": {},
     "output_type": "display_data"
    },
    {
     "data": {
      "text/markdown": [
       "**Boros Aggro/Beatdown** 13 cards"
      ],
      "text/plain": [
       "<IPython.core.display.Markdown object>"
      ]
     },
     "metadata": {},
     "output_type": "display_data"
    },
    {
     "data": {
      "text/markdown": [
       "**Dimir Control** 13 cards"
      ],
      "text/plain": [
       "<IPython.core.display.Markdown object>"
      ]
     },
     "metadata": {},
     "output_type": "display_data"
    },
    {
     "data": {
      "text/markdown": [
       "**Golgari Graveyard** 13 cards"
      ],
      "text/plain": [
       "<IPython.core.display.Markdown object>"
      ]
     },
     "metadata": {},
     "output_type": "display_data"
    },
    {
     "data": {
      "text/markdown": [
       "**Green Big Creatures** 13 cards"
      ],
      "text/plain": [
       "<IPython.core.display.Markdown object>"
      ]
     },
     "metadata": {},
     "output_type": "display_data"
    },
    {
     "data": {
      "text/markdown": [
       "**Green Midrange** 13 cards"
      ],
      "text/plain": [
       "<IPython.core.display.Markdown object>"
      ]
     },
     "metadata": {},
     "output_type": "display_data"
    },
    {
     "data": {
      "text/markdown": [
       "**Green Ramp** 13 cards"
      ],
      "text/plain": [
       "<IPython.core.display.Markdown object>"
      ]
     },
     "metadata": {},
     "output_type": "display_data"
    },
    {
     "data": {
      "text/markdown": [
       "**Green Stompy** 13 cards"
      ],
      "text/plain": [
       "<IPython.core.display.Markdown object>"
      ]
     },
     "metadata": {},
     "output_type": "display_data"
    },
    {
     "data": {
      "text/markdown": [
       "**Gruul Aggro/Beatdown** 13 cards"
      ],
      "text/plain": [
       "<IPython.core.display.Markdown object>"
      ]
     },
     "metadata": {},
     "output_type": "display_data"
    },
    {
     "data": {
      "text/markdown": [
       "**Izzet Control** 13 cards"
      ],
      "text/plain": [
       "<IPython.core.display.Markdown object>"
      ]
     },
     "metadata": {},
     "output_type": "display_data"
    },
    {
     "data": {
      "text/markdown": [
       "**Orzhov Control** 13 cards"
      ],
      "text/plain": [
       "<IPython.core.display.Markdown object>"
      ]
     },
     "metadata": {},
     "output_type": "display_data"
    },
    {
     "data": {
      "text/markdown": [
       "**Rakdos Burn/Damage** 13 cards"
      ],
      "text/plain": [
       "<IPython.core.display.Markdown object>"
      ]
     },
     "metadata": {},
     "output_type": "display_data"
    },
    {
     "data": {
      "text/markdown": [
       "**Red Aggro** 13 cards"
      ],
      "text/plain": [
       "<IPython.core.display.Markdown object>"
      ]
     },
     "metadata": {},
     "output_type": "display_data"
    },
    {
     "data": {
      "text/markdown": [
       "**Red Artifacts** 13 cards"
      ],
      "text/plain": [
       "<IPython.core.display.Markdown object>"
      ]
     },
     "metadata": {},
     "output_type": "display_data"
    },
    {
     "data": {
      "text/markdown": [
       "**Red Burn** 13 cards"
      ],
      "text/plain": [
       "<IPython.core.display.Markdown object>"
      ]
     },
     "metadata": {},
     "output_type": "display_data"
    },
    {
     "data": {
      "text/markdown": [
       "**Red Small Creatures** 13 cards"
      ],
      "text/plain": [
       "<IPython.core.display.Markdown object>"
      ]
     },
     "metadata": {},
     "output_type": "display_data"
    },
    {
     "data": {
      "text/markdown": [
       "**Selesnya Control** 13 cards"
      ],
      "text/plain": [
       "<IPython.core.display.Markdown object>"
      ]
     },
     "metadata": {},
     "output_type": "display_data"
    },
    {
     "data": {
      "text/markdown": [
       "**Simic Control** 13 cards"
      ],
      "text/plain": [
       "<IPython.core.display.Markdown object>"
      ]
     },
     "metadata": {},
     "output_type": "display_data"
    },
    {
     "data": {
      "text/markdown": [
       "**White Aggro** 13 cards"
      ],
      "text/plain": [
       "<IPython.core.display.Markdown object>"
      ]
     },
     "metadata": {},
     "output_type": "display_data"
    },
    {
     "data": {
      "text/markdown": [
       "**White Control** 13 cards"
      ],
      "text/plain": [
       "<IPython.core.display.Markdown object>"
      ]
     },
     "metadata": {},
     "output_type": "display_data"
    },
    {
     "data": {
      "text/markdown": [
       "**White Equipment** 13 cards"
      ],
      "text/plain": [
       "<IPython.core.display.Markdown object>"
      ]
     },
     "metadata": {},
     "output_type": "display_data"
    },
    {
     "data": {
      "text/markdown": [
       "**White Tokens** 13 cards"
      ],
      "text/plain": [
       "<IPython.core.display.Markdown object>"
      ]
     },
     "metadata": {},
     "output_type": "display_data"
    }
   ],
   "source": [
    "display_validate_results(validate_jumpstart_cube(cube_df, oracle_df))"
   ]
  },
  {
   "cell_type": "code",
   "execution_count": 3,
   "id": "5499b0ad",
   "metadata": {},
   "outputs": [
    {
     "data": {
      "text/plain": [
       "43.06892307692308"
      ]
     },
     "execution_count": 3,
     "metadata": {},
     "output_type": "execute_result"
    }
   ],
   "source": [
    "analyze_deck_theme_coherence_enhanced(cube_df, oracle_df)[\"Green Big Creatures\"]['overall_coherence']"
   ]
  },
  {
   "cell_type": "markdown",
   "id": "4ed2b044",
   "metadata": {},
   "source": [
    "# Generated"
   ]
  },
  {
   "cell_type": "code",
   "execution_count": null,
   "id": "56f05954",
   "metadata": {},
   "outputs": [
    {
     "ename": "ModuleNotFoundError",
     "evalue": "No module named 'jumpstart'",
     "output_type": "error",
     "traceback": [
      "\u001b[31m---------------------------------------------------------------------------\u001b[39m",
      "\u001b[31mModuleNotFoundError\u001b[39m                       Traceback (most recent call last)",
      "\u001b[36mCell\u001b[39m\u001b[36m \u001b[39m\u001b[32mIn[4]\u001b[39m\u001b[32m, line 4\u001b[39m\n\u001b[32m      1\u001b[39m \u001b[38;5;66;03m# Import the new swap recommendation function\u001b[39;00m\n\u001b[32m      2\u001b[39m \n\u001b[32m      3\u001b[39m \u001b[38;5;66;03m# Get all deck coherence results first\u001b[39;00m\n\u001b[32m----> \u001b[39m\u001b[32m4\u001b[39m \u001b[38;5;28;01mfrom\u001b[39;00m\u001b[38;5;250m \u001b[39m\u001b[34;01mjumpstart\u001b[39;00m\u001b[34;01m.\u001b[39;00m\u001b[34;01msrc\u001b[39;00m\u001b[34;01m.\u001b[39;00m\u001b[34;01mimprove\u001b[39;00m\u001b[38;5;250m \u001b[39m\u001b[38;5;28;01mimport\u001b[39;00m display_swap_recommendations, find_best_card_swaps_for_deck\n\u001b[32m      7\u001b[39m coherence_results = analyze_deck_theme_coherence_enhanced(cube_df, oracle_df)\n\u001b[32m      9\u001b[39m \u001b[38;5;66;03m# Find the deck with the lowest coherence score for improvement\u001b[39;00m\n",
      "\u001b[31mModuleNotFoundError\u001b[39m: No module named 'jumpstart'"
     ]
    }
   ],
   "source": [
    "# Import the new swap recommendation function\n",
    "\n",
    "# Get all deck coherence results first\n",
    "from src.improve import display_swap_recommendations, find_best_card_swaps_for_deck\n",
    "\n",
    "\n",
    "coherence_results = analyze_deck_theme_coherence_enhanced(cube_df, oracle_df)\n",
    "\n",
    "# Find the deck with the lowest coherence score for improvement\n",
    "worst_deck = min(coherence_results.items(), key=lambda x: x[1]['overall_coherence'])\n",
    "deck_to_improve = worst_deck[0]\n",
    "\n",
    "print(f\"Deck with lowest coherence: {deck_to_improve} (Score: {worst_deck[1]['overall_coherence']:.1f})\")\n",
    "\n",
    "# Find the best card swaps for this deck\n",
    "swap_recommendations = find_best_card_swaps_for_deck(\n",
    "    deck_to_improve, \n",
    "    cube_df, \n",
    "    oracle_df, \n",
    "    coherence_results, \n",
    "    num_swaps=2\n",
    ")\n",
    "\n",
    "# Display the recommendations\n",
    "display_swap_recommendations(swap_recommendations)"
   ]
  },
  {
   "cell_type": "code",
   "execution_count": null,
   "id": "2a2f16e9",
   "metadata": {},
   "outputs": [
    {
     "name": "stdout",
     "output_type": "stream",
     "text": [
      "Analyzing Green Big Creatures for potential improvements...\n",
      "Analyzing deck: Green Big Creatures\n",
      "Current coherence: 43.1\n",
      "Expected themes: Big Creatures\n",
      "Deck colors: G\n",
      "Found 27 candidate cards to consider\n",
      "Identified 13 cards as potential removal candidates\n"
     ]
    },
    {
     "data": {
      "text/markdown": [
       "# 🔄 Swap Recommendations for Green Big Creatures"
      ],
      "text/plain": [
       "<IPython.core.display.Markdown object>"
      ]
     },
     "metadata": {},
     "output_type": "display_data"
    },
    {
     "data": {
      "text/markdown": [
       "**Current Coherence:** 43.1/100"
      ],
      "text/plain": [
       "<IPython.core.display.Markdown object>"
      ]
     },
     "metadata": {},
     "output_type": "display_data"
    },
    {
     "data": {
      "text/markdown": [
       "**Expected Themes:** Big Creatures"
      ],
      "text/plain": [
       "<IPython.core.display.Markdown object>"
      ]
     },
     "metadata": {},
     "output_type": "display_data"
    },
    {
     "data": {
      "text/markdown": [
       "## 🎯 Recommended Changes"
      ],
      "text/plain": [
       "<IPython.core.display.Markdown object>"
      ]
     },
     "metadata": {},
     "output_type": "display_data"
    },
    {
     "data": {
      "text/markdown": [
       "**Projected New Coherence:** 83.1/100 (+40.0)"
      ],
      "text/plain": [
       "<IPython.core.display.Markdown object>"
      ]
     },
     "metadata": {},
     "output_type": "display_data"
    },
    {
     "data": {
      "text/markdown": [
       "### Cards to Remove:"
      ],
      "text/plain": [
       "<IPython.core.display.Markdown object>"
      ]
     },
     "metadata": {},
     "output_type": "display_data"
    },
    {
     "data": {
      "text/markdown": [
       "- **Jade Guardian** (Theme Score: 0.0, CMC: 4.0)"
      ],
      "text/plain": [
       "<IPython.core.display.Markdown object>"
      ]
     },
     "metadata": {},
     "output_type": "display_data"
    },
    {
     "data": {
      "text/markdown": [
       "- **Lead the Stampede** (Theme Score: 0.0, CMC: 3.0)"
      ],
      "text/plain": [
       "<IPython.core.display.Markdown object>"
      ]
     },
     "metadata": {},
     "output_type": "display_data"
    },
    {
     "data": {
      "text/markdown": [
       "### Cards to Add:"
      ],
      "text/plain": [
       "<IPython.core.display.Markdown object>"
      ]
     },
     "metadata": {},
     "output_type": "display_data"
    },
    {
     "data": {
      "text/markdown": [
       "- **Bannerhide Krushok** (Theme Score: 4.0) - from Green Midrange"
      ],
      "text/plain": [
       "<IPython.core.display.Markdown object>"
      ]
     },
     "metadata": {},
     "output_type": "display_data"
    },
    {
     "data": {
      "text/markdown": [
       "- **Bramble Wurm** (Theme Score: 4.0) - from Simic Control"
      ],
      "text/plain": [
       "<IPython.core.display.Markdown object>"
      ]
     },
     "metadata": {},
     "output_type": "display_data"
    },
    {
     "data": {
      "text/markdown": [
       "---"
      ],
      "text/plain": [
       "<IPython.core.display.Markdown object>"
      ]
     },
     "metadata": {},
     "output_type": "display_data"
    },
    {
     "data": {
      "text/markdown": [
       "💡 **Next Steps:** Use these recommendations to manually update your cube CSV file, then re-run the coherence analysis to confirm the improvements."
      ],
      "text/plain": [
       "<IPython.core.display.Markdown object>"
      ]
     },
     "metadata": {},
     "output_type": "display_data"
    }
   ],
   "source": [
    "# You can also analyze a specific deck by name\n",
    "# Example: Analyze the \"Green Big Creatures\" deck\n",
    "specific_deck = \"Green Big Creatures\"\n",
    "\n",
    "if specific_deck in coherence_results:\n",
    "    print(f\"Analyzing {specific_deck} for potential improvements...\")\n",
    "    \n",
    "    # Get swap recommendations for this specific deck\n",
    "    specific_swaps = find_best_card_swaps_for_deck(\n",
    "        specific_deck, \n",
    "        cube_df, \n",
    "        oracle_df, \n",
    "        coherence_results, \n",
    "        num_swaps=2\n",
    "    )\n",
    "    \n",
    "    # Display the recommendations\n",
    "    display_swap_recommendations(specific_swaps)\n",
    "else:\n",
    "    print(f\"Deck '{specific_deck}' not found. Available decks:\")\n",
    "    for deck in sorted(coherence_results.keys()):\n",
    "        score = coherence_results[deck]['overall_coherence']\n",
    "        print(f\"  - {deck} (Score: {score:.1f})\")"
   ]
  },
  {
   "cell_type": "markdown",
   "id": "a31f0004",
   "metadata": {},
   "source": [
    "# 🔄 Card Swap Recommendation System\n",
    "\n",
    "The new `find_best_card_swaps_for_deck()` function helps improve deck coherence by finding optimal card swaps. Here's how it works:\n",
    "\n",
    "## 🎯 What it does:\n",
    "1. **Analyzes current deck weaknesses** - Identifies cards that don't fit the theme well\n",
    "2. **Finds potential replacements** - Looks at both unassigned cards from the oracle pool and cards from other decks\n",
    "3. **Calculates theme scores** - Evaluates how well each card matches the deck's expected themes\n",
    "4. **Recommends optimal swaps** - Suggests the best combination of cards to remove and add\n",
    "\n",
    "## 📊 Key Features:\n",
    "- **Theme-based scoring**: Uses your existing theme keywords to evaluate card fit\n",
    "- **Color identity compliance**: Ensures recommendations respect mana requirements  \n",
    "- **Cross-deck optimization**: Can suggest moving cards between decks for better overall coherence\n",
    "- **Incremental improvement**: Focuses on meaningful improvements rather than drastic changes\n",
    "\n",
    "## 🛠️ Parameters:\n",
    "- `deck_name`: The specific deck to improve\n",
    "- `num_swaps`: How many cards to swap (default: 2)\n",
    "- `cube_df`: Your current jumpstart cube\n",
    "- `oracle_df`: The full pauper cube as source pool\n",
    "- `coherence_results`: Pre-calculated coherence analysis\n",
    "\n",
    "## 📈 Usage Tips:\n",
    "- Start with the lowest-scoring decks for maximum impact\n",
    "- Run coherence analysis after implementing swaps to verify improvements\n",
    "- Consider the \"source\" of recommended cards (unassigned vs. from other decks)\n",
    "- Use this iteratively - make swaps, re-analyze, repeat"
   ]
  }
 ],
 "metadata": {
  "kernelspec": {
   "display_name": "magic",
   "language": "python",
   "name": "python3"
  },
  "language_info": {
   "codemirror_mode": {
    "name": "ipython",
    "version": 3
   },
   "file_extension": ".py",
   "mimetype": "text/x-python",
   "name": "python",
   "nbconvert_exporter": "python",
   "pygments_lexer": "ipython3",
   "version": "3.13.2"
  }
 },
 "nbformat": 4,
 "nbformat_minor": 5
}
