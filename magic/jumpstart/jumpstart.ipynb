{
 "cells": [
  {
   "cell_type": "code",
   "execution_count": 1,
   "id": "6ef0b8fa",
   "metadata": {},
   "outputs": [],
   "source": [
    "import pandas as pd\n",
    "from dotenv import load_dotenv\n",
    "from openai import OpenAI\n",
    "from anthropic import Anthropic\n",
    "from src.consts import *\n",
    "from src.validation import validate_jumpstart_cube, display_validate_results\n",
    "from src.coherence import analyze_deck_theme_coherence_enhanced\n",
    "from src.improve import apply_swap\n",
    "\n",
    "load_dotenv(override=True)\n",
    "openai = OpenAI()\n",
    "anthropic = Anthropic() \n",
    "\n",
    "# Load the data files\n",
    "oracle_df = pd.read_csv('ThePauperCube_oracle_with_pt.csv')\n",
    "cube_df = pd.read_csv('JumpstartCube_ThePauperCube_ULTIMATE_Final_v3.csv')"
   ]
  },
  {
   "cell_type": "markdown",
   "id": "4ed2b044",
   "metadata": {},
   "source": [
    "# Generated"
   ]
  },
  {
   "cell_type": "code",
   "execution_count": 2,
   "id": "56f05954",
   "metadata": {},
   "outputs": [],
   "source": [
    "# # Import the new swap recommendation function\n",
    "\n",
    "# # Get all deck coherence results first\n",
    "# from src.coherence import display_coherence_analysis_enhanced\n",
    "# from src.improve import display_swap_recommendations, find_best_card_swaps_for_deck\n",
    "\n",
    "\n",
    "# coherence_results = analyze_deck_theme_coherence_enhanced(cube_df, oracle_df)\n",
    "# print(coherence_results['Green Big Creatures']['overall_coherence'])\n",
    "# display_coherence_analysis_enhanced(coherence_results)\n",
    "\n",
    "# # Find the deck with the lowest coherence score for improvement\n",
    "# worst_deck = min(coherence_results.items(), key=lambda x: x[1]['overall_coherence'])\n",
    "# deck_to_improve = worst_deck[0]\n",
    "\n",
    "# print(f\"Deck with lowest coherence: {deck_to_improve} (Score: {worst_deck[1]['overall_coherence']:.1f})\")\n",
    "\n",
    "# # Find the best card swaps for this deck\n",
    "# swap_recommendations = find_best_card_swaps_for_deck(\n",
    "#     deck_to_improve, \n",
    "#     cube_df, \n",
    "#     oracle_df, \n",
    "#     coherence_results, \n",
    "#     num_swaps=2\n",
    "# )\n",
    "\n",
    "# # Display the recommendations\n",
    "# display_swap_recommendations(swap_recommendations)"
   ]
  },
  {
   "cell_type": "code",
   "execution_count": 8,
   "id": "2a2f16e9",
   "metadata": {},
   "outputs": [
    {
     "data": {
      "text/markdown": [
       "Analyzing deck: Green Ramp"
      ],
      "text/plain": [
       "<IPython.core.display.Markdown object>"
      ]
     },
     "metadata": {},
     "output_type": "display_data"
    },
    {
     "data": {
      "text/markdown": [
       "Current coherence: 1.1"
      ],
      "text/plain": [
       "<IPython.core.display.Markdown object>"
      ]
     },
     "metadata": {},
     "output_type": "display_data"
    },
    {
     "data": {
      "text/markdown": [
       "Expected themes: Ramp"
      ],
      "text/plain": [
       "<IPython.core.display.Markdown object>"
      ]
     },
     "metadata": {},
     "output_type": "display_data"
    },
    {
     "data": {
      "text/markdown": [
       "Deck colors: G"
      ],
      "text/plain": [
       "<IPython.core.display.Markdown object>"
      ]
     },
     "metadata": {},
     "output_type": "display_data"
    },
    {
     "data": {
      "text/markdown": [
       "Found 119 candidate cards to consider"
      ],
      "text/plain": [
       "<IPython.core.display.Markdown object>"
      ]
     },
     "metadata": {},
     "output_type": "display_data"
    },
    {
     "data": {
      "text/markdown": [
       "Identified 13 cards as potential removal candidates"
      ],
      "text/plain": [
       "<IPython.core.display.Markdown object>"
      ]
     },
     "metadata": {},
     "output_type": "display_data"
    },
    {
     "data": {
      "text/markdown": [
       "# 🔄 Swap Recommendations for Green Ramp"
      ],
      "text/plain": [
       "<IPython.core.display.Markdown object>"
      ]
     },
     "metadata": {},
     "output_type": "display_data"
    },
    {
     "data": {
      "text/markdown": [
       "**Projected New Coherence:** 91.1/100 (+90.0)"
      ],
      "text/plain": [
       "<IPython.core.display.Markdown object>"
      ]
     },
     "metadata": {},
     "output_type": "display_data"
    },
    {
     "data": {
      "text/markdown": [
       "### Cards to Remove:"
      ],
      "text/plain": [
       "<IPython.core.display.Markdown object>"
      ]
     },
     "metadata": {},
     "output_type": "display_data"
    },
    {
     "data": {
      "text/markdown": [
       "- **Fertile Ground** (Theme Score: 0.0, CMC: 2.0)"
      ],
      "text/plain": [
       "<IPython.core.display.Markdown object>"
      ]
     },
     "metadata": {},
     "output_type": "display_data"
    },
    {
     "data": {
      "text/markdown": [
       "- **Giant Growth** (Theme Score: 0.0, CMC: 1.0)"
      ],
      "text/plain": [
       "<IPython.core.display.Markdown object>"
      ]
     },
     "metadata": {},
     "output_type": "display_data"
    },
    {
     "data": {
      "text/markdown": [
       "### Cards to Add:"
      ],
      "text/plain": [
       "<IPython.core.display.Markdown object>"
      ]
     },
     "metadata": {},
     "output_type": "display_data"
    },
    {
     "data": {
      "text/markdown": [
       "- **Tranquil Landscape** (Theme Score: 9.0) - from oracle pool"
      ],
      "text/plain": [
       "<IPython.core.display.Markdown object>"
      ]
     },
     "metadata": {},
     "output_type": "display_data"
    },
    {
     "data": {
      "text/markdown": [
       "- **Contaminated Landscape** (Theme Score: 9.0) - from oracle pool"
      ],
      "text/plain": [
       "<IPython.core.display.Markdown object>"
      ]
     },
     "metadata": {},
     "output_type": "display_data"
    },
    {
     "name": "stdout",
     "output_type": "stream",
     "text": [
      "1.9553846153846155\n",
      "{'expected_themes': ['Ramp'], 'theme_score': 2.8461538461538463, 'theme_matches': [{'card': 'Arbor Elf', 'score': 1, 'themes': ['Ramp']}, {'card': 'Bushwhack', 'score': 5, 'themes': ['Ramp']}, {'card': 'Nyxborn Hydra', 'score': 2, 'themes': ['Ramp']}, {'card': 'Ram Through', 'score': 0, 'themes': ['Ramp']}, {'card': 'Sakura-Tribe Elder', 'score': 8, 'themes': ['Ramp']}, {'card': \"Tamiyo's Safekeeping\", 'score': 0, 'themes': ['Ramp']}, {'card': 'Treetop Snarespinner', 'score': 1, 'themes': ['Ramp']}, {'card': 'Tuskguard Captain', 'score': 1, 'themes': ['Ramp']}, {'card': 'Voracious Varmint', 'score': 1, 'themes': ['Ramp']}, {'card': 'Wild Growth', 'score': 0, 'themes': ['Ramp']}, {'card': 'Horrific Assault', 'score': 0, 'themes': ['Ramp']}, {'card': 'Tranquil Landscape', 'score': 9, 'themes': ['Ramp']}, {'card': 'Contaminated Landscape', 'score': 9, 'themes': ['Ramp']}], 'color_coherence': 1.0, 'color_issues': [], 'mana_curve_score': 0.9846153846153847, 'mana_curve': {1: 6, 2: 3, 4: 1, 3: 1, 0: 2}, 'creature_stats': {'creature_count': 6, 'total_power': 7.0, 'total_toughness': 12.0, 'avg_power': 1.1666666666666667, 'avg_toughness': 2.0, 'power_distribution': {1: 3, 0: 1, 2: 2}, 'toughness_distribution': {1: 3, 4: 1, 3: 1, 2: 1}, 'creature_categories': {'small': 6, 'medium': 0, 'large': 0, 'utility': 2, 'evasive': 3}, 'theme_alignment_score': 0.0, 'creature_details': [{'name': 'Arbor Elf', 'power': 1.0, 'toughness': 1.0, 'categories': ['small'], 'has_evasion': False, 'has_utility': False}, {'name': 'Nyxborn Hydra', 'power': 0.0, 'toughness': 1.0, 'categories': ['small', 'evasive', 'utility'], 'has_evasion': True, 'has_utility': True}, {'name': 'Sakura-Tribe Elder', 'power': 1.0, 'toughness': 1.0, 'categories': ['small', 'utility'], 'has_evasion': False, 'has_utility': True}, {'name': 'Treetop Snarespinner', 'power': 1.0, 'toughness': 4.0, 'categories': ['small', 'evasive'], 'has_evasion': True, 'has_utility': False}, {'name': 'Tuskguard Captain', 'power': 2.0, 'toughness': 3.0, 'categories': ['small', 'evasive'], 'has_evasion': True, 'has_utility': False}, {'name': 'Voracious Varmint', 'power': 2.0, 'toughness': 2.0, 'categories': ['small'], 'has_evasion': False, 'has_utility': False}]}, 'overall_coherence': 1.9553846153846155, 'deck_colors': 'G', 'card_count': 13}\n",
      "Improved Green Ramp coherence from 1.1 to 2.0\n"
     ]
    }
   ],
   "source": [
    "# You can also analyze a specific deck by name\n",
    "# Example: Analyze the \"Green Big Creatures\" deck\n",
    "\n",
    "from src.process import optimize_deck_coherence\n",
    "\n",
    "cube_df = optimize_deck_coherence(cube_df=cube_df, oracle_df=oracle_df)"
   ]
  },
  {
   "cell_type": "code",
   "execution_count": 4,
   "id": "b89cb5cc",
   "metadata": {},
   "outputs": [
    {
     "name": "stdout",
     "output_type": "stream",
     "text": [
      "Exporting cube to JumpstartCube_ThePauperCube_ULTIMATE_Final_v4.csv...\n",
      "✅ Successfully exported 390 cards to JumpstartCube_ThePauperCube_ULTIMATE_Final_v4.csv\n",
      "\n",
      "📊 Export Summary:\n",
      "Total cards: 390\n",
      "Number of decks: 30\n",
      "\n",
      "Deck breakdown:\n",
      "  Azorius Evasion/Flying: 13 cards\n",
      "  Black Aggro: 13 cards\n",
      "  White Equipment: 13 cards\n",
      "  White Control: 13 cards\n",
      "  White Aggro: 13 cards\n",
      "  Simic Control: 13 cards\n",
      "  Selesnya Control: 13 cards\n",
      "  Red Artifacts: 13 cards\n",
      "  Red Burn: 13 cards\n",
      "  Rakdos Burn/Damage: 13 cards\n",
      "  ... and 20 more decks\n"
     ]
    },
    {
     "data": {
      "text/plain": [
       "'JumpstartCube_ThePauperCube_ULTIMATE_Final_v4.csv'"
      ]
     },
     "execution_count": 4,
     "metadata": {},
     "output_type": "execute_result"
    }
   ],
   "source": [
    "# display_coherence_analysis_enhanced(analyze_deck_theme_coherence_enhanced(cube_df, oracle_df))\n",
    "\n",
    "from src.export import export_cube_to_csv\n",
    "\n",
    "\n",
    "export_cube_to_csv(cube_df, oracle_df, 'JumpstartCube_ThePauperCube_ULTIMATE_Final_v4.csv')"
   ]
  }
 ],
 "metadata": {
  "kernelspec": {
   "display_name": "magic",
   "language": "python",
   "name": "python3"
  },
  "language_info": {
   "codemirror_mode": {
    "name": "ipython",
    "version": 3
   },
   "file_extension": ".py",
   "mimetype": "text/x-python",
   "name": "python",
   "nbconvert_exporter": "python",
   "pygments_lexer": "ipython3",
   "version": "3.13.2"
  }
 },
 "nbformat": 4,
 "nbformat_minor": 5
}
